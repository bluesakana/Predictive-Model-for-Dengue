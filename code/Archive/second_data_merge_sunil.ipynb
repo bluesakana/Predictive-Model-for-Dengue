{
 "cells": [
  {
   "cell_type": "markdown",
   "id": "295bcc4a-5f5f-4af2-a98a-5a5a50a7e3d8",
   "metadata": {},
   "source": [
    "Import all relevant packages. "
   ]
  },
  {
   "cell_type": "code",
   "execution_count": 1,
   "id": "a5deb662-2846-41b0-9038-e7fd051e02d2",
   "metadata": {},
   "outputs": [],
   "source": [
    "import pandas as pd"
   ]
  },
  {
   "cell_type": "markdown",
   "id": "201b0f17-a56e-45b2-8b41-2a92a7f9b981",
   "metadata": {},
   "source": [
    "Import all Datasets. "
   ]
  },
  {
   "cell_type": "code",
   "execution_count": 2,
   "id": "94797e94-a871-49f0-b4e5-932d8823c981",
   "metadata": {},
   "outputs": [],
   "source": [
    "# import dengue cases and serology data\n",
    "serotype_df = pd.read_csv(\"../datasets/dengue_data_cleaned.csv\")"
   ]
  },
  {
   "cell_type": "code",
   "execution_count": 3,
   "id": "ab9e21c0-f959-469c-b16f-228c8854c22e",
   "metadata": {},
   "outputs": [
    {
     "data": {
      "text/html": [
       "<div>\n",
       "<style scoped>\n",
       "    .dataframe tbody tr th:only-of-type {\n",
       "        vertical-align: middle;\n",
       "    }\n",
       "\n",
       "    .dataframe tbody tr th {\n",
       "        vertical-align: top;\n",
       "    }\n",
       "\n",
       "    .dataframe thead th {\n",
       "        text-align: right;\n",
       "    }\n",
       "</style>\n",
       "<table border=\"1\" class=\"dataframe\">\n",
       "  <thead>\n",
       "    <tr style=\"text-align: right;\">\n",
       "      <th></th>\n",
       "      <th>date</th>\n",
       "      <th>dengue_cases</th>\n",
       "      <th>denv_1</th>\n",
       "      <th>denv_2</th>\n",
       "      <th>denv_3</th>\n",
       "      <th>denv_4</th>\n",
       "    </tr>\n",
       "  </thead>\n",
       "  <tbody>\n",
       "    <tr>\n",
       "      <th>0</th>\n",
       "      <td>2023-01-01</td>\n",
       "      <td>279</td>\n",
       "      <td>0.214</td>\n",
       "      <td>0.108</td>\n",
       "      <td>0.623</td>\n",
       "      <td>0.055</td>\n",
       "    </tr>\n",
       "    <tr>\n",
       "      <th>1</th>\n",
       "      <td>2023-01-08</td>\n",
       "      <td>278</td>\n",
       "      <td>0.214</td>\n",
       "      <td>0.108</td>\n",
       "      <td>0.623</td>\n",
       "      <td>0.055</td>\n",
       "    </tr>\n",
       "    <tr>\n",
       "      <th>2</th>\n",
       "      <td>2023-01-15</td>\n",
       "      <td>273</td>\n",
       "      <td>0.214</td>\n",
       "      <td>0.108</td>\n",
       "      <td>0.623</td>\n",
       "      <td>0.055</td>\n",
       "    </tr>\n",
       "  </tbody>\n",
       "</table>\n",
       "</div>"
      ],
      "text/plain": [
       "         date  dengue_cases  denv_1  denv_2  denv_3  denv_4\n",
       "0  2023-01-01           279   0.214   0.108   0.623   0.055\n",
       "1  2023-01-08           278   0.214   0.108   0.623   0.055\n",
       "2  2023-01-15           273   0.214   0.108   0.623   0.055"
      ]
     },
     "execution_count": 3,
     "metadata": {},
     "output_type": "execute_result"
    }
   ],
   "source": [
    "serotype_df.head(3)"
   ]
  },
  {
   "cell_type": "code",
   "execution_count": 4,
   "id": "9b413051-fce0-4a67-a39d-dfdbd2990999",
   "metadata": {},
   "outputs": [],
   "source": [
    "# import climate data\n",
    "climate_df = pd.read_csv(\"../datasets/climate_wk.csv\")"
   ]
  },
  {
   "cell_type": "code",
   "execution_count": 5,
   "id": "1cccadba-28b6-4d7d-8e47-cd8556216880",
   "metadata": {},
   "outputs": [
    {
     "data": {
      "text/html": [
       "<div>\n",
       "<style scoped>\n",
       "    .dataframe tbody tr th:only-of-type {\n",
       "        vertical-align: middle;\n",
       "    }\n",
       "\n",
       "    .dataframe tbody tr th {\n",
       "        vertical-align: top;\n",
       "    }\n",
       "\n",
       "    .dataframe thead th {\n",
       "        text-align: right;\n",
       "    }\n",
       "</style>\n",
       "<table border=\"1\" class=\"dataframe\">\n",
       "  <thead>\n",
       "    <tr style=\"text-align: right;\">\n",
       "      <th></th>\n",
       "      <th>DateTime</th>\n",
       "      <th>Mean Temperature (°C)</th>\n",
       "      <th>Mean Wind Speed (km/h)</th>\n",
       "      <th>Daily Rainfall Total (mm)</th>\n",
       "      <th>Maximum Temperature (°C)</th>\n",
       "      <th>Max Wind Speed (km/h)</th>\n",
       "      <th>Minimum Temperature (°C)</th>\n",
       "    </tr>\n",
       "  </thead>\n",
       "  <tbody>\n",
       "    <tr>\n",
       "      <th>0</th>\n",
       "      <td>1980-01-06</td>\n",
       "      <td>27.676001</td>\n",
       "      <td>7.534925</td>\n",
       "      <td>2.850000</td>\n",
       "      <td>31.522349</td>\n",
       "      <td>32.8</td>\n",
       "      <td>24.924584</td>\n",
       "    </tr>\n",
       "    <tr>\n",
       "      <th>1</th>\n",
       "      <td>1980-01-13</td>\n",
       "      <td>27.676001</td>\n",
       "      <td>7.534925</td>\n",
       "      <td>1.128571</td>\n",
       "      <td>31.522349</td>\n",
       "      <td>32.8</td>\n",
       "      <td>24.924584</td>\n",
       "    </tr>\n",
       "    <tr>\n",
       "      <th>2</th>\n",
       "      <td>1980-01-20</td>\n",
       "      <td>27.676001</td>\n",
       "      <td>7.534925</td>\n",
       "      <td>39.357143</td>\n",
       "      <td>31.522349</td>\n",
       "      <td>32.8</td>\n",
       "      <td>24.924584</td>\n",
       "    </tr>\n",
       "  </tbody>\n",
       "</table>\n",
       "</div>"
      ],
      "text/plain": [
       "     DateTime  Mean Temperature (°C)  Mean Wind Speed (km/h)  \\\n",
       "0  1980-01-06              27.676001                7.534925   \n",
       "1  1980-01-13              27.676001                7.534925   \n",
       "2  1980-01-20              27.676001                7.534925   \n",
       "\n",
       "   Daily Rainfall Total (mm)  Maximum Temperature (°C)  Max Wind Speed (km/h)  \\\n",
       "0                   2.850000                 31.522349                   32.8   \n",
       "1                   1.128571                 31.522349                   32.8   \n",
       "2                  39.357143                 31.522349                   32.8   \n",
       "\n",
       "   Minimum Temperature (°C)  \n",
       "0                 24.924584  \n",
       "1                 24.924584  \n",
       "2                 24.924584  "
      ]
     },
     "execution_count": 5,
     "metadata": {},
     "output_type": "execute_result"
    }
   ],
   "source": [
    "climate_df.head(3)"
   ]
  },
  {
   "cell_type": "code",
   "execution_count": 6,
   "id": "7bfe26fd-4657-4f2e-a253-e40695a7d59a",
   "metadata": {},
   "outputs": [],
   "source": [
    "# import google trends data \n",
    "google_trends = pd.read_csv(\"../datasets/dengue_google_trends_cleaned.csv\")"
   ]
  },
  {
   "cell_type": "code",
   "execution_count": 7,
   "id": "7c1d764c-5a19-4f2f-8143-afb061b195c7",
   "metadata": {},
   "outputs": [
    {
     "data": {
      "text/html": [
       "<div>\n",
       "<style scoped>\n",
       "    .dataframe tbody tr th:only-of-type {\n",
       "        vertical-align: middle;\n",
       "    }\n",
       "\n",
       "    .dataframe tbody tr th {\n",
       "        vertical-align: top;\n",
       "    }\n",
       "\n",
       "    .dataframe thead th {\n",
       "        text-align: right;\n",
       "    }\n",
       "</style>\n",
       "<table border=\"1\" class=\"dataframe\">\n",
       "  <thead>\n",
       "    <tr style=\"text-align: right;\">\n",
       "      <th></th>\n",
       "      <th>Week</th>\n",
       "      <th>google_trends</th>\n",
       "    </tr>\n",
       "  </thead>\n",
       "  <tbody>\n",
       "    <tr>\n",
       "      <th>0</th>\n",
       "      <td>2018-04-08</td>\n",
       "      <td>20</td>\n",
       "    </tr>\n",
       "    <tr>\n",
       "      <th>1</th>\n",
       "      <td>2018-04-15</td>\n",
       "      <td>18</td>\n",
       "    </tr>\n",
       "    <tr>\n",
       "      <th>2</th>\n",
       "      <td>2018-04-22</td>\n",
       "      <td>21</td>\n",
       "    </tr>\n",
       "  </tbody>\n",
       "</table>\n",
       "</div>"
      ],
      "text/plain": [
       "         Week  google_trends\n",
       "0  2018-04-08             20\n",
       "1  2018-04-15             18\n",
       "2  2018-04-22             21"
      ]
     },
     "execution_count": 7,
     "metadata": {},
     "output_type": "execute_result"
    }
   ],
   "source": [
    "google_trends.head(3)"
   ]
  },
  {
   "cell_type": "markdown",
   "id": "e3563756-10e7-4251-9eae-ccc31f9570b3",
   "metadata": {},
   "source": [
    "Convert the time columns to datetime format. "
   ]
  },
  {
   "cell_type": "code",
   "execution_count": 8,
   "id": "263dd439-b032-4e99-acde-910d42a0d493",
   "metadata": {},
   "outputs": [],
   "source": [
    "# serotype_df\n",
    "serotype_df['time'] = pd.to_datetime(serotype_df['date'])\n",
    "\n",
    "# climate_df\n",
    "climate_df['time'] = pd.to_datetime(climate_df['DateTime'])\n",
    "\n",
    "# google_trends\n",
    "google_trends['time'] = pd.to_datetime(google_trends['Week'])"
   ]
  },
  {
   "cell_type": "markdown",
   "id": "c582cfff-6aa5-431e-ae8d-61c8fcfd2531",
   "metadata": {},
   "source": [
    "Sort all datasets by the time column in ascending order."
   ]
  },
  {
   "cell_type": "code",
   "execution_count": 9,
   "id": "d5a688f8-7492-45c4-a33a-387d0ee414c5",
   "metadata": {},
   "outputs": [],
   "source": [
    "# serotype_df\n",
    "serotype_df = serotype_df.sort_values('time')\n",
    "\n",
    "# climate_df\n",
    "climate_df = climate_df.sort_values('time')\n",
    "\n",
    "# google_trends\n",
    "google_trends = google_trends.sort_values('time')"
   ]
  },
  {
   "cell_type": "markdown",
   "id": "aad5a275-0e57-40ed-a21d-2ed67e79adf0",
   "metadata": {},
   "source": [
    "Merge all datasets together. "
   ]
  },
  {
   "cell_type": "code",
   "execution_count": 10,
   "id": "44754623-539d-43f2-a031-03e4677b20ca",
   "metadata": {},
   "outputs": [],
   "source": [
    "# Merge the datasets by the time column using an inner join\n",
    "merged_df2 = pd.merge(serotype_df, climate_df, on='time', how='inner')\n",
    "merged_df2 = pd.merge(merged_df2, google_trends, on='time', how='inner')"
   ]
  },
  {
   "cell_type": "code",
   "execution_count": 11,
   "id": "6e7377cd-4ec7-4066-8feb-6fb730ad3267",
   "metadata": {
    "scrolled": true,
    "tags": []
   },
   "outputs": [
    {
     "name": "stdout",
     "output_type": "stream",
     "text": [
      "<class 'pandas.core.frame.DataFrame'>\n",
      "Int64Index: 257 entries, 0 to 256\n",
      "Data columns (total 16 columns):\n",
      " #   Column                     Non-Null Count  Dtype         \n",
      "---  ------                     --------------  -----         \n",
      " 0   date                       257 non-null    object        \n",
      " 1   dengue_cases               257 non-null    int64         \n",
      " 2   denv_1                     257 non-null    float64       \n",
      " 3   denv_2                     257 non-null    float64       \n",
      " 4   denv_3                     257 non-null    float64       \n",
      " 5   denv_4                     257 non-null    float64       \n",
      " 6   time                       257 non-null    datetime64[ns]\n",
      " 7   DateTime                   257 non-null    object        \n",
      " 8   Mean Temperature (°C)      257 non-null    float64       \n",
      " 9   Mean Wind Speed (km/h)     257 non-null    float64       \n",
      " 10  Daily Rainfall Total (mm)  257 non-null    float64       \n",
      " 11  Maximum Temperature (°C)   257 non-null    float64       \n",
      " 12  Max Wind Speed (km/h)      257 non-null    float64       \n",
      " 13  Minimum Temperature (°C)   257 non-null    float64       \n",
      " 14  Week                       257 non-null    object        \n",
      " 15  google_trends              257 non-null    int64         \n",
      "dtypes: datetime64[ns](1), float64(10), int64(2), object(3)\n",
      "memory usage: 34.1+ KB\n"
     ]
    }
   ],
   "source": [
    "merged_df2.info()"
   ]
  },
  {
   "cell_type": "markdown",
   "id": "488611c7-edb1-4ff9-a8e6-d6f957118ea3",
   "metadata": {},
   "source": [
    "Drop duplicated columns. "
   ]
  },
  {
   "cell_type": "code",
   "execution_count": 12,
   "id": "b5d59451-ec6f-4e9f-8b72-d77218c20d81",
   "metadata": {},
   "outputs": [],
   "source": [
    "merged_df2 = merged_df2.drop(['date', 'DateTime', 'Week'], axis=1)"
   ]
  },
  {
   "cell_type": "markdown",
   "id": "b9284fb8-20ad-4b32-ad56-e2ace3e16758",
   "metadata": {},
   "source": [
    "Reset the index."
   ]
  },
  {
   "cell_type": "code",
   "execution_count": 13,
   "id": "1a639bc9-431e-467b-8bd5-a7c436e1eccd",
   "metadata": {},
   "outputs": [],
   "source": [
    "merged_df2.set_index('time', inplace=True)"
   ]
  },
  {
   "cell_type": "markdown",
   "id": "4991a4ba-2844-4028-8771-70076f4bbd66",
   "metadata": {},
   "source": [
    "Export Merged Dataframe into CSV. "
   ]
  },
  {
   "cell_type": "code",
   "execution_count": 14,
   "id": "49fb513e-d3e0-4f62-9193-23f11788a49c",
   "metadata": {},
   "outputs": [],
   "source": [
    "# save merged dataframe into csv format for EDA and modelling #1\n",
    "merged_df2.to_csv('../datasets/merged_df2.csv', index=True)"
   ]
  }
 ],
 "metadata": {
  "kernelspec": {
   "display_name": "dsi-sg",
   "language": "python",
   "name": "dsi-sg"
  },
  "language_info": {
   "codemirror_mode": {
    "name": "ipython",
    "version": 3
   },
   "file_extension": ".py",
   "mimetype": "text/x-python",
   "name": "python",
   "nbconvert_exporter": "python",
   "pygments_lexer": "ipython3",
   "version": "3.9.13"
  }
 },
 "nbformat": 4,
 "nbformat_minor": 5
}
