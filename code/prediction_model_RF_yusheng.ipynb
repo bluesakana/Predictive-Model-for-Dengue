{
 "cells": [
  {
   "cell_type": "code",
   "execution_count": 1,
   "id": "c6918ec8-6f01-4907-ad69-9b87d72b67da",
   "metadata": {},
   "outputs": [],
   "source": [
    "# Import the necessary libraries\n",
    "import numpy as np\n",
    "import pandas as pd\n",
    "import matplotlib.pyplot as plt\n",
    "import pickle\n",
    "\n",
    "from sklearn.metrics import mean_squared_error\n",
    "\n",
    "from sklearn.ensemble import RandomForestRegressor\n",
    "\n",
    "from pmdarima import auto_arima\n",
    "\n",
    "#import warnings\n",
    "#warnings.simplefilter(action=\"ignore\")\n",
    "\n",
    "# Set all columns and rows to be displayed\n",
    "pd.set_option('display.max_columns', None)\n",
    "pd.set_option('display.max_rows', None)"
   ]
  },
  {
   "cell_type": "markdown",
   "id": "abb677df-09b1-4bbe-b885-5306447bef02",
   "metadata": {
    "jp-MarkdownHeadingCollapsed": true,
    "tags": []
   },
   "source": [
    "### Import Data"
   ]
  },
  {
   "cell_type": "code",
   "execution_count": 2,
   "id": "a2a7e2da-5691-447d-8b0a-5897b4726682",
   "metadata": {},
   "outputs": [],
   "source": [
    "# Import the dataset\n",
    "data = pd.read_csv(\"../datasets/data_features.csv\")"
   ]
  },
  {
   "cell_type": "code",
   "execution_count": 3,
   "id": "515fd99a-e811-46fc-9bf1-c4b5e4af6df7",
   "metadata": {},
   "outputs": [
    {
     "data": {
      "text/html": [
       "<div>\n",
       "<style scoped>\n",
       "    .dataframe tbody tr th:only-of-type {\n",
       "        vertical-align: middle;\n",
       "    }\n",
       "\n",
       "    .dataframe tbody tr th {\n",
       "        vertical-align: top;\n",
       "    }\n",
       "\n",
       "    .dataframe thead th {\n",
       "        text-align: right;\n",
       "    }\n",
       "</style>\n",
       "<table border=\"1\" class=\"dataframe\">\n",
       "  <thead>\n",
       "    <tr style=\"text-align: right;\">\n",
       "      <th></th>\n",
       "      <th>time</th>\n",
       "      <th>dengue_cases</th>\n",
       "      <th>denv_1</th>\n",
       "      <th>denv_2</th>\n",
       "      <th>denv_3</th>\n",
       "      <th>denv_4</th>\n",
       "      <th>Mean Temperature (°C)</th>\n",
       "      <th>Mean Wind Speed (km/h)</th>\n",
       "      <th>Daily Rainfall Total (mm)</th>\n",
       "      <th>Maximum Temperature (°C)</th>\n",
       "      <th>Max Wind Speed (km/h)</th>\n",
       "      <th>Minimum Temperature (°C)</th>\n",
       "      <th>google_trends</th>\n",
       "      <th>s_ratio</th>\n",
       "      <th>month_2</th>\n",
       "      <th>month_3</th>\n",
       "      <th>month_4</th>\n",
       "      <th>month_5</th>\n",
       "      <th>month_6</th>\n",
       "      <th>month_7</th>\n",
       "      <th>month_8</th>\n",
       "      <th>month_9</th>\n",
       "      <th>month_10</th>\n",
       "      <th>month_11</th>\n",
       "      <th>month_12</th>\n",
       "    </tr>\n",
       "  </thead>\n",
       "  <tbody>\n",
       "    <tr>\n",
       "      <th>0</th>\n",
       "      <td>2018-04-08</td>\n",
       "      <td>38</td>\n",
       "      <td>NaN</td>\n",
       "      <td>NaN</td>\n",
       "      <td>NaN</td>\n",
       "      <td>NaN</td>\n",
       "      <td>NaN</td>\n",
       "      <td>NaN</td>\n",
       "      <td>NaN</td>\n",
       "      <td>NaN</td>\n",
       "      <td>NaN</td>\n",
       "      <td>NaN</td>\n",
       "      <td>NaN</td>\n",
       "      <td>0.000000</td>\n",
       "      <td>0</td>\n",
       "      <td>0</td>\n",
       "      <td>1</td>\n",
       "      <td>0</td>\n",
       "      <td>0</td>\n",
       "      <td>0</td>\n",
       "      <td>0</td>\n",
       "      <td>0</td>\n",
       "      <td>0</td>\n",
       "      <td>0</td>\n",
       "      <td>0</td>\n",
       "    </tr>\n",
       "    <tr>\n",
       "      <th>1</th>\n",
       "      <td>2018-04-15</td>\n",
       "      <td>56</td>\n",
       "      <td>0.0</td>\n",
       "      <td>0.505</td>\n",
       "      <td>0.484</td>\n",
       "      <td>0.011</td>\n",
       "      <td>28.528571</td>\n",
       "      <td>10.714286</td>\n",
       "      <td>0.742857</td>\n",
       "      <td>33.8</td>\n",
       "      <td>36.7</td>\n",
       "      <td>25.5</td>\n",
       "      <td>20.0</td>\n",
       "      <td>0.725367</td>\n",
       "      <td>0</td>\n",
       "      <td>0</td>\n",
       "      <td>1</td>\n",
       "      <td>0</td>\n",
       "      <td>0</td>\n",
       "      <td>0</td>\n",
       "      <td>0</td>\n",
       "      <td>0</td>\n",
       "      <td>0</td>\n",
       "      <td>0</td>\n",
       "      <td>0</td>\n",
       "    </tr>\n",
       "    <tr>\n",
       "      <th>2</th>\n",
       "      <td>2018-04-22</td>\n",
       "      <td>55</td>\n",
       "      <td>0.0</td>\n",
       "      <td>0.505</td>\n",
       "      <td>0.484</td>\n",
       "      <td>0.011</td>\n",
       "      <td>28.914286</td>\n",
       "      <td>9.828571</td>\n",
       "      <td>2.057143</td>\n",
       "      <td>34.4</td>\n",
       "      <td>38.2</td>\n",
       "      <td>24.6</td>\n",
       "      <td>18.0</td>\n",
       "      <td>0.725189</td>\n",
       "      <td>0</td>\n",
       "      <td>0</td>\n",
       "      <td>1</td>\n",
       "      <td>0</td>\n",
       "      <td>0</td>\n",
       "      <td>0</td>\n",
       "      <td>0</td>\n",
       "      <td>0</td>\n",
       "      <td>0</td>\n",
       "      <td>0</td>\n",
       "      <td>0</td>\n",
       "    </tr>\n",
       "    <tr>\n",
       "      <th>3</th>\n",
       "      <td>2018-04-29</td>\n",
       "      <td>74</td>\n",
       "      <td>0.0</td>\n",
       "      <td>0.505</td>\n",
       "      <td>0.484</td>\n",
       "      <td>0.011</td>\n",
       "      <td>28.142857</td>\n",
       "      <td>7.700000</td>\n",
       "      <td>0.371429</td>\n",
       "      <td>34.3</td>\n",
       "      <td>37.1</td>\n",
       "      <td>25.5</td>\n",
       "      <td>21.0</td>\n",
       "      <td>0.725087</td>\n",
       "      <td>0</td>\n",
       "      <td>0</td>\n",
       "      <td>1</td>\n",
       "      <td>0</td>\n",
       "      <td>0</td>\n",
       "      <td>0</td>\n",
       "      <td>0</td>\n",
       "      <td>0</td>\n",
       "      <td>0</td>\n",
       "      <td>0</td>\n",
       "      <td>0</td>\n",
       "    </tr>\n",
       "    <tr>\n",
       "      <th>4</th>\n",
       "      <td>2018-05-06</td>\n",
       "      <td>62</td>\n",
       "      <td>0.0</td>\n",
       "      <td>0.505</td>\n",
       "      <td>0.484</td>\n",
       "      <td>0.011</td>\n",
       "      <td>28.414286</td>\n",
       "      <td>6.842857</td>\n",
       "      <td>4.800000</td>\n",
       "      <td>35.0</td>\n",
       "      <td>43.6</td>\n",
       "      <td>22.6</td>\n",
       "      <td>23.0</td>\n",
       "      <td>0.724806</td>\n",
       "      <td>0</td>\n",
       "      <td>0</td>\n",
       "      <td>0</td>\n",
       "      <td>1</td>\n",
       "      <td>0</td>\n",
       "      <td>0</td>\n",
       "      <td>0</td>\n",
       "      <td>0</td>\n",
       "      <td>0</td>\n",
       "      <td>0</td>\n",
       "      <td>0</td>\n",
       "    </tr>\n",
       "  </tbody>\n",
       "</table>\n",
       "</div>"
      ],
      "text/plain": [
       "         time  dengue_cases  denv_1  denv_2  denv_3  denv_4  \\\n",
       "0  2018-04-08            38     NaN     NaN     NaN     NaN   \n",
       "1  2018-04-15            56     0.0   0.505   0.484   0.011   \n",
       "2  2018-04-22            55     0.0   0.505   0.484   0.011   \n",
       "3  2018-04-29            74     0.0   0.505   0.484   0.011   \n",
       "4  2018-05-06            62     0.0   0.505   0.484   0.011   \n",
       "\n",
       "   Mean Temperature (°C)  Mean Wind Speed (km/h)  Daily Rainfall Total (mm)  \\\n",
       "0                    NaN                     NaN                        NaN   \n",
       "1              28.528571               10.714286                   0.742857   \n",
       "2              28.914286                9.828571                   2.057143   \n",
       "3              28.142857                7.700000                   0.371429   \n",
       "4              28.414286                6.842857                   4.800000   \n",
       "\n",
       "   Maximum Temperature (°C)  Max Wind Speed (km/h)  Minimum Temperature (°C)  \\\n",
       "0                       NaN                    NaN                       NaN   \n",
       "1                      33.8                   36.7                      25.5   \n",
       "2                      34.4                   38.2                      24.6   \n",
       "3                      34.3                   37.1                      25.5   \n",
       "4                      35.0                   43.6                      22.6   \n",
       "\n",
       "   google_trends   s_ratio  month_2  month_3  month_4  month_5  month_6  \\\n",
       "0            NaN  0.000000        0        0        1        0        0   \n",
       "1           20.0  0.725367        0        0        1        0        0   \n",
       "2           18.0  0.725189        0        0        1        0        0   \n",
       "3           21.0  0.725087        0        0        1        0        0   \n",
       "4           23.0  0.724806        0        0        0        1        0   \n",
       "\n",
       "   month_7  month_8  month_9  month_10  month_11  month_12  \n",
       "0        0        0        0         0         0         0  \n",
       "1        0        0        0         0         0         0  \n",
       "2        0        0        0         0         0         0  \n",
       "3        0        0        0         0         0         0  \n",
       "4        0        0        0         0         0         0  "
      ]
     },
     "execution_count": 3,
     "metadata": {},
     "output_type": "execute_result"
    }
   ],
   "source": [
    "# Check the data\n",
    "data.head()"
   ]
  },
  {
   "cell_type": "code",
   "execution_count": 4,
   "id": "35a05baa-45f6-4b67-ab70-709eebaefaa8",
   "metadata": {},
   "outputs": [
    {
     "data": {
      "text/plain": [
       "(257, 25)"
      ]
     },
     "execution_count": 4,
     "metadata": {},
     "output_type": "execute_result"
    }
   ],
   "source": [
    "# Check the shape of the data\n",
    "data.shape"
   ]
  },
  {
   "cell_type": "code",
   "execution_count": 5,
   "id": "66849088-a043-4feb-a7dd-0a838e65a314",
   "metadata": {},
   "outputs": [
    {
     "name": "stdout",
     "output_type": "stream",
     "text": [
      "<class 'pandas.core.frame.DataFrame'>\n",
      "RangeIndex: 257 entries, 0 to 256\n",
      "Data columns (total 25 columns):\n",
      " #   Column                     Non-Null Count  Dtype  \n",
      "---  ------                     --------------  -----  \n",
      " 0   time                       257 non-null    object \n",
      " 1   dengue_cases               257 non-null    int64  \n",
      " 2   denv_1                     256 non-null    float64\n",
      " 3   denv_2                     256 non-null    float64\n",
      " 4   denv_3                     256 non-null    float64\n",
      " 5   denv_4                     256 non-null    float64\n",
      " 6   Mean Temperature (°C)      256 non-null    float64\n",
      " 7   Mean Wind Speed (km/h)     256 non-null    float64\n",
      " 8   Daily Rainfall Total (mm)  256 non-null    float64\n",
      " 9   Maximum Temperature (°C)   256 non-null    float64\n",
      " 10  Max Wind Speed (km/h)      256 non-null    float64\n",
      " 11  Minimum Temperature (°C)   256 non-null    float64\n",
      " 12  google_trends              256 non-null    float64\n",
      " 13  s_ratio                    257 non-null    float64\n",
      " 14  month_2                    257 non-null    int64  \n",
      " 15  month_3                    257 non-null    int64  \n",
      " 16  month_4                    257 non-null    int64  \n",
      " 17  month_5                    257 non-null    int64  \n",
      " 18  month_6                    257 non-null    int64  \n",
      " 19  month_7                    257 non-null    int64  \n",
      " 20  month_8                    257 non-null    int64  \n",
      " 21  month_9                    257 non-null    int64  \n",
      " 22  month_10                   257 non-null    int64  \n",
      " 23  month_11                   257 non-null    int64  \n",
      " 24  month_12                   257 non-null    int64  \n",
      "dtypes: float64(12), int64(12), object(1)\n",
      "memory usage: 50.3+ KB\n"
     ]
    }
   ],
   "source": [
    "# Look at the datatypes\n",
    "data.info()"
   ]
  },
  {
   "cell_type": "markdown",
   "id": "c014ccc6-cd32-4e27-af81-a8ee8a09ab7c",
   "metadata": {
    "tags": []
   },
   "source": [
    "### Date Processing"
   ]
  },
  {
   "cell_type": "markdown",
   "id": "b105f91d-91eb-46da-96a9-efb392feb38b",
   "metadata": {},
   "source": [
    "The date feature is currently an object time. We will be converting it into a dateTime format."
   ]
  },
  {
   "cell_type": "code",
   "execution_count": 6,
   "id": "7bfbebb4-2527-4b55-bd37-806b6fc66418",
   "metadata": {},
   "outputs": [],
   "source": [
    "# Convert the date column into dateTime format\n",
    "data['time'] = pd.to_datetime(data['time'])"
   ]
  },
  {
   "cell_type": "code",
   "execution_count": 7,
   "id": "b620f55f-8272-468f-8348-d59a1119e506",
   "metadata": {},
   "outputs": [],
   "source": [
    "# Set the time as the index\n",
    "data = data.set_index('time')"
   ]
  },
  {
   "cell_type": "code",
   "execution_count": 8,
   "id": "665f31a1-5acb-497e-894d-612bf9439142",
   "metadata": {},
   "outputs": [
    {
     "data": {
      "text/html": [
       "<div>\n",
       "<style scoped>\n",
       "    .dataframe tbody tr th:only-of-type {\n",
       "        vertical-align: middle;\n",
       "    }\n",
       "\n",
       "    .dataframe tbody tr th {\n",
       "        vertical-align: top;\n",
       "    }\n",
       "\n",
       "    .dataframe thead th {\n",
       "        text-align: right;\n",
       "    }\n",
       "</style>\n",
       "<table border=\"1\" class=\"dataframe\">\n",
       "  <thead>\n",
       "    <tr style=\"text-align: right;\">\n",
       "      <th></th>\n",
       "      <th>dengue_cases</th>\n",
       "      <th>denv_1</th>\n",
       "      <th>denv_2</th>\n",
       "      <th>denv_3</th>\n",
       "      <th>denv_4</th>\n",
       "      <th>Mean Temperature (°C)</th>\n",
       "      <th>Mean Wind Speed (km/h)</th>\n",
       "      <th>Daily Rainfall Total (mm)</th>\n",
       "      <th>Maximum Temperature (°C)</th>\n",
       "      <th>Max Wind Speed (km/h)</th>\n",
       "      <th>Minimum Temperature (°C)</th>\n",
       "      <th>google_trends</th>\n",
       "      <th>s_ratio</th>\n",
       "      <th>month_2</th>\n",
       "      <th>month_3</th>\n",
       "      <th>month_4</th>\n",
       "      <th>month_5</th>\n",
       "      <th>month_6</th>\n",
       "      <th>month_7</th>\n",
       "      <th>month_8</th>\n",
       "      <th>month_9</th>\n",
       "      <th>month_10</th>\n",
       "      <th>month_11</th>\n",
       "      <th>month_12</th>\n",
       "    </tr>\n",
       "    <tr>\n",
       "      <th>time</th>\n",
       "      <th></th>\n",
       "      <th></th>\n",
       "      <th></th>\n",
       "      <th></th>\n",
       "      <th></th>\n",
       "      <th></th>\n",
       "      <th></th>\n",
       "      <th></th>\n",
       "      <th></th>\n",
       "      <th></th>\n",
       "      <th></th>\n",
       "      <th></th>\n",
       "      <th></th>\n",
       "      <th></th>\n",
       "      <th></th>\n",
       "      <th></th>\n",
       "      <th></th>\n",
       "      <th></th>\n",
       "      <th></th>\n",
       "      <th></th>\n",
       "      <th></th>\n",
       "      <th></th>\n",
       "      <th></th>\n",
       "      <th></th>\n",
       "    </tr>\n",
       "  </thead>\n",
       "  <tbody>\n",
       "    <tr>\n",
       "      <th>2018-04-08</th>\n",
       "      <td>38</td>\n",
       "      <td>NaN</td>\n",
       "      <td>NaN</td>\n",
       "      <td>NaN</td>\n",
       "      <td>NaN</td>\n",
       "      <td>NaN</td>\n",
       "      <td>NaN</td>\n",
       "      <td>NaN</td>\n",
       "      <td>NaN</td>\n",
       "      <td>NaN</td>\n",
       "      <td>NaN</td>\n",
       "      <td>NaN</td>\n",
       "      <td>0.000000</td>\n",
       "      <td>0</td>\n",
       "      <td>0</td>\n",
       "      <td>1</td>\n",
       "      <td>0</td>\n",
       "      <td>0</td>\n",
       "      <td>0</td>\n",
       "      <td>0</td>\n",
       "      <td>0</td>\n",
       "      <td>0</td>\n",
       "      <td>0</td>\n",
       "      <td>0</td>\n",
       "    </tr>\n",
       "    <tr>\n",
       "      <th>2018-04-15</th>\n",
       "      <td>56</td>\n",
       "      <td>0.0</td>\n",
       "      <td>0.505</td>\n",
       "      <td>0.484</td>\n",
       "      <td>0.011</td>\n",
       "      <td>28.528571</td>\n",
       "      <td>10.714286</td>\n",
       "      <td>0.742857</td>\n",
       "      <td>33.8</td>\n",
       "      <td>36.7</td>\n",
       "      <td>25.5</td>\n",
       "      <td>20.0</td>\n",
       "      <td>0.725367</td>\n",
       "      <td>0</td>\n",
       "      <td>0</td>\n",
       "      <td>1</td>\n",
       "      <td>0</td>\n",
       "      <td>0</td>\n",
       "      <td>0</td>\n",
       "      <td>0</td>\n",
       "      <td>0</td>\n",
       "      <td>0</td>\n",
       "      <td>0</td>\n",
       "      <td>0</td>\n",
       "    </tr>\n",
       "    <tr>\n",
       "      <th>2018-04-22</th>\n",
       "      <td>55</td>\n",
       "      <td>0.0</td>\n",
       "      <td>0.505</td>\n",
       "      <td>0.484</td>\n",
       "      <td>0.011</td>\n",
       "      <td>28.914286</td>\n",
       "      <td>9.828571</td>\n",
       "      <td>2.057143</td>\n",
       "      <td>34.4</td>\n",
       "      <td>38.2</td>\n",
       "      <td>24.6</td>\n",
       "      <td>18.0</td>\n",
       "      <td>0.725189</td>\n",
       "      <td>0</td>\n",
       "      <td>0</td>\n",
       "      <td>1</td>\n",
       "      <td>0</td>\n",
       "      <td>0</td>\n",
       "      <td>0</td>\n",
       "      <td>0</td>\n",
       "      <td>0</td>\n",
       "      <td>0</td>\n",
       "      <td>0</td>\n",
       "      <td>0</td>\n",
       "    </tr>\n",
       "    <tr>\n",
       "      <th>2018-04-29</th>\n",
       "      <td>74</td>\n",
       "      <td>0.0</td>\n",
       "      <td>0.505</td>\n",
       "      <td>0.484</td>\n",
       "      <td>0.011</td>\n",
       "      <td>28.142857</td>\n",
       "      <td>7.700000</td>\n",
       "      <td>0.371429</td>\n",
       "      <td>34.3</td>\n",
       "      <td>37.1</td>\n",
       "      <td>25.5</td>\n",
       "      <td>21.0</td>\n",
       "      <td>0.725087</td>\n",
       "      <td>0</td>\n",
       "      <td>0</td>\n",
       "      <td>1</td>\n",
       "      <td>0</td>\n",
       "      <td>0</td>\n",
       "      <td>0</td>\n",
       "      <td>0</td>\n",
       "      <td>0</td>\n",
       "      <td>0</td>\n",
       "      <td>0</td>\n",
       "      <td>0</td>\n",
       "    </tr>\n",
       "    <tr>\n",
       "      <th>2018-05-06</th>\n",
       "      <td>62</td>\n",
       "      <td>0.0</td>\n",
       "      <td>0.505</td>\n",
       "      <td>0.484</td>\n",
       "      <td>0.011</td>\n",
       "      <td>28.414286</td>\n",
       "      <td>6.842857</td>\n",
       "      <td>4.800000</td>\n",
       "      <td>35.0</td>\n",
       "      <td>43.6</td>\n",
       "      <td>22.6</td>\n",
       "      <td>23.0</td>\n",
       "      <td>0.724806</td>\n",
       "      <td>0</td>\n",
       "      <td>0</td>\n",
       "      <td>0</td>\n",
       "      <td>1</td>\n",
       "      <td>0</td>\n",
       "      <td>0</td>\n",
       "      <td>0</td>\n",
       "      <td>0</td>\n",
       "      <td>0</td>\n",
       "      <td>0</td>\n",
       "      <td>0</td>\n",
       "    </tr>\n",
       "  </tbody>\n",
       "</table>\n",
       "</div>"
      ],
      "text/plain": [
       "            dengue_cases  denv_1  denv_2  denv_3  denv_4  \\\n",
       "time                                                       \n",
       "2018-04-08            38     NaN     NaN     NaN     NaN   \n",
       "2018-04-15            56     0.0   0.505   0.484   0.011   \n",
       "2018-04-22            55     0.0   0.505   0.484   0.011   \n",
       "2018-04-29            74     0.0   0.505   0.484   0.011   \n",
       "2018-05-06            62     0.0   0.505   0.484   0.011   \n",
       "\n",
       "            Mean Temperature (°C)  Mean Wind Speed (km/h)  \\\n",
       "time                                                        \n",
       "2018-04-08                    NaN                     NaN   \n",
       "2018-04-15              28.528571               10.714286   \n",
       "2018-04-22              28.914286                9.828571   \n",
       "2018-04-29              28.142857                7.700000   \n",
       "2018-05-06              28.414286                6.842857   \n",
       "\n",
       "            Daily Rainfall Total (mm)  Maximum Temperature (°C)  \\\n",
       "time                                                              \n",
       "2018-04-08                        NaN                       NaN   \n",
       "2018-04-15                   0.742857                      33.8   \n",
       "2018-04-22                   2.057143                      34.4   \n",
       "2018-04-29                   0.371429                      34.3   \n",
       "2018-05-06                   4.800000                      35.0   \n",
       "\n",
       "            Max Wind Speed (km/h)  Minimum Temperature (°C)  google_trends  \\\n",
       "time                                                                         \n",
       "2018-04-08                    NaN                       NaN            NaN   \n",
       "2018-04-15                   36.7                      25.5           20.0   \n",
       "2018-04-22                   38.2                      24.6           18.0   \n",
       "2018-04-29                   37.1                      25.5           21.0   \n",
       "2018-05-06                   43.6                      22.6           23.0   \n",
       "\n",
       "             s_ratio  month_2  month_3  month_4  month_5  month_6  month_7  \\\n",
       "time                                                                         \n",
       "2018-04-08  0.000000        0        0        1        0        0        0   \n",
       "2018-04-15  0.725367        0        0        1        0        0        0   \n",
       "2018-04-22  0.725189        0        0        1        0        0        0   \n",
       "2018-04-29  0.725087        0        0        1        0        0        0   \n",
       "2018-05-06  0.724806        0        0        0        1        0        0   \n",
       "\n",
       "            month_8  month_9  month_10  month_11  month_12  \n",
       "time                                                        \n",
       "2018-04-08        0        0         0         0         0  \n",
       "2018-04-15        0        0         0         0         0  \n",
       "2018-04-22        0        0         0         0         0  \n",
       "2018-04-29        0        0         0         0         0  \n",
       "2018-05-06        0        0         0         0         0  "
      ]
     },
     "execution_count": 8,
     "metadata": {},
     "output_type": "execute_result"
    }
   ],
   "source": [
    "# Check the data \n",
    "data.head()"
   ]
  },
  {
   "cell_type": "code",
   "execution_count": 9,
   "id": "ae2be478-96cf-4692-9c2d-b58fb42d83c5",
   "metadata": {},
   "outputs": [],
   "source": [
    "# set frequency of data\n",
    "data = data.asfreq('W-SUN')\n",
    "\n",
    "# remove first row\n",
    "data = data[1:]"
   ]
  },
  {
   "cell_type": "code",
   "execution_count": 10,
   "id": "ff24f72b-d1d3-45d6-bc80-4e385a7d835f",
   "metadata": {},
   "outputs": [],
   "source": [
    "# drop unnecessary rows\n",
    "data.drop(columns=['denv_1', 'denv_2', 'denv_3', 'denv_4', \n",
    "                   'Mean Temperature (°C)', 'Mean Wind Speed (km/h)',\n",
    "                   'Maximum Temperature (°C)', 'Max Wind Speed (km/h)'\n",
    "                  ],\n",
    "          inplace=True\n",
    "         )"
   ]
  },
  {
   "cell_type": "markdown",
   "id": "37a4e8cb-f6c0-487d-a9f9-2b453697a1bc",
   "metadata": {},
   "source": [
    "### Conversion to Sliding Time Window"
   ]
  },
  {
   "cell_type": "code",
   "execution_count": 11,
   "id": "406db554-0055-4792-bcea-16e6d14683f1",
   "metadata": {
    "tags": []
   },
   "outputs": [],
   "source": [
    "# transform a time series dataset into a supervised learning dataset\n",
    "def series_to_window(data, var_list=None, n_in=1, n_out=1, dropnan=True):\n",
    "    \n",
    "    # isolate selected variables\n",
    "    if var_list is None:\n",
    "        temp = data.copy()\n",
    "    elif type(var_list) is list:\n",
    "        temp = data[var_list].copy()\n",
    "    else:\n",
    "        temp = data[[var_list]].copy()\n",
    "    \n",
    "    df = pd.DataFrame(index=data.index)\n",
    "    \n",
    "    # input sequence (t-n, ... t-1)\n",
    "    for i in range(n_in, 0, -1):\n",
    "        cols = temp.shift(i)\n",
    "        cols.columns = [f'{name}_lag_{i}' for name in cols.columns]\n",
    "        df = pd.concat([df, cols], axis=1)\n",
    "    \n",
    "    # forecast sequence (t, t+1, ... t+n)\n",
    "    for i in range(0, n_out):\n",
    "        cols = temp.shift(-i)\n",
    "        if not i == 0:\n",
    "            cols.columns = [f'{name}_lead_{i}' for name in cols.columns]\n",
    "        df = pd.concat([df, cols], axis=1)\n",
    "    \n",
    "    # combine shifted and non-shifted data\n",
    "    if var_list is None:\n",
    "        return df\n",
    "    else:\n",
    "        df = pd.concat([data.drop(columns=var_list), df], axis=1)\n",
    "    \n",
    "    # drop rows with NaN values\n",
    "    if dropnan:\n",
    "        df.dropna(inplace=True)\n",
    "    \n",
    "    return df"
   ]
  },
  {
   "cell_type": "code",
   "execution_count": 12,
   "id": "9edb6b7d-b2ff-44d3-9202-63e5c1ef6062",
   "metadata": {},
   "outputs": [],
   "source": [
    "# specific variables to convert\n",
    "sliding_vars = ['Daily Rainfall Total (mm)', \n",
    "                'Minimum Temperature (°C)',\n",
    "                'google_trends', \n",
    "                's_ratio']\n",
    "\n",
    "# convert\n",
    "data = series_to_window(data, var_list=sliding_vars, n_in=8)"
   ]
  },
  {
   "cell_type": "markdown",
   "id": "944f2481-0d1c-4ab5-81e7-0392e4a3d234",
   "metadata": {
    "tags": []
   },
   "source": [
    "### Train/Test Split"
   ]
  },
  {
   "cell_type": "markdown",
   "id": "c293ba19-7229-4bb7-8b92-6828d0458d3e",
   "metadata": {},
   "source": [
    "Given that this is a time series, we do a 30% train test split by time\n",
    "* Train: ~75% of data - 2018 to 2021\n",
    "* Test: ~25% of data - 2022 to 2023"
   ]
  },
  {
   "cell_type": "code",
   "execution_count": 11,
   "id": "6b826299-1602-49ac-93f3-586e8b88f901",
   "metadata": {},
   "outputs": [
    {
     "data": {
      "text/plain": [
       "0.7587548638132295"
      ]
     },
     "execution_count": 11,
     "metadata": {},
     "output_type": "execute_result"
    }
   ],
   "source": [
    "# with 257 datapoints, the 195th data point is the end of 2018 and coincides with 75th percentile of datapoints by time\n",
    "195/257"
   ]
  },
  {
   "cell_type": "code",
   "execution_count": 14,
   "id": "56413e2c-0137-4308-80d1-017fe7fa713d",
   "metadata": {},
   "outputs": [],
   "source": [
    "# Train data will coveer 2018 to 2021\n",
    "train = data.iloc[:195]\n",
    "\n",
    "# Test data will cover 2022 to March 2023\n",
    "test = data.iloc[195:]"
   ]
  },
  {
   "cell_type": "code",
   "execution_count": 15,
   "id": "3e4c5adf-74f1-4433-8da3-ba18b1221ddf",
   "metadata": {},
   "outputs": [
    {
     "data": {
      "text/plain": [
       "(195, 48)"
      ]
     },
     "execution_count": 15,
     "metadata": {},
     "output_type": "execute_result"
    }
   ],
   "source": [
    "train.shape"
   ]
  },
  {
   "cell_type": "code",
   "execution_count": 16,
   "id": "87b307eb-f581-4e37-98f3-da5c59c605ed",
   "metadata": {},
   "outputs": [
    {
     "data": {
      "text/plain": [
       "(53, 48)"
      ]
     },
     "execution_count": 16,
     "metadata": {},
     "output_type": "execute_result"
    }
   ],
   "source": [
    "test.shape"
   ]
  },
  {
   "cell_type": "code",
   "execution_count": 17,
   "id": "6ba2f104-c5b6-4350-a3bc-aa149ce77a60",
   "metadata": {},
   "outputs": [
    {
     "data": {
      "image/png": "[encoded data removed]",
      "text/plain": [
       "<Figure size 1600x800 with 1 Axes>"
      ]
     },
     "metadata": {},
     "output_type": "display_data"
    }
   ],
   "source": [
    "# Time series plot of the train and test data\n",
    "def train_test_plot(train, test):\n",
    "    plt.figure(figsize=(16, 8))\n",
    "    \n",
    "    plt.plot(train[['dengue_cases']], c='blue')\n",
    "    plt.plot(test[['dengue_cases']], c='orange')\n",
    "    \n",
    "    plt.legend(['train', 'test'])\n",
    "    \n",
    "    plt.show()\n",
    "    \n",
    "train_test_plot(train, test)"
   ]
  },
  {
   "cell_type": "markdown",
   "id": "8feb0b4b-b4e4-4c31-b86e-c581404181b1",
   "metadata": {},
   "source": [
    "## Random Forest Regression on Time Series"
   ]
  },
  {
   "cell_type": "code",
   "execution_count": 18,
   "id": "7869ff8a-530b-48f5-a0b8-3ebb4a82a2e9",
   "metadata": {},
   "outputs": [
    {
     "data": {
      "text/html": [
       "<style>#sk-container-id-1 {color: black;background-color: white;}#sk-container-id-1 pre{padding: 0;}#sk-container-id-1 div.sk-toggleable {background-color: white;}#sk-container-id-1 label.sk-toggleable__label {cursor: pointer;display: block;width: 100%;margin-bottom: 0;padding: 0.3em;box-sizing: border-box;text-align: center;}#sk-container-id-1 label.sk-toggleable__label-arrow:before {content: \"▸\";float: left;margin-right: 0.25em;color: #696969;}#sk-container-id-1 label.sk-toggleable__label-arrow:hover:before {color: black;}#sk-container-id-1 div.sk-estimator:hover label.sk-toggleable__label-arrow:before {color: black;}#sk-container-id-1 div.sk-toggleable__content {max-height: 0;max-width: 0;overflow: hidden;text-align: left;background-color: #f0f8ff;}#sk-container-id-1 div.sk-toggleable__content pre {margin: 0.2em;color: black;border-radius: 0.25em;background-color: #f0f8ff;}#sk-container-id-1 input.sk-toggleable__control:checked~div.sk-toggleable__content {max-height: 200px;max-width: 100%;overflow: auto;}#sk-container-id-1 input.sk-toggleable__control:checked~label.sk-toggleable__label-arrow:before {content: \"▾\";}#sk-container-id-1 div.sk-estimator input.sk-toggleable__control:checked~label.sk-toggleable__label {background-color: #d4ebff;}#sk-container-id-1 div.sk-label input.sk-toggleable__control:checked~label.sk-toggleable__label {background-color: #d4ebff;}#sk-container-id-1 input.sk-hidden--visually {border: 0;clip: rect(1px 1px 1px 1px);clip: rect(1px, 1px, 1px, 1px);height: 1px;margin: -1px;overflow: hidden;padding: 0;position: absolute;width: 1px;}#sk-container-id-1 div.sk-estimator {font-family: monospace;background-color: #f0f8ff;border: 1px dotted black;border-radius: 0.25em;box-sizing: border-box;margin-bottom: 0.5em;}#sk-container-id-1 div.sk-estimator:hover {background-color: #d4ebff;}#sk-container-id-1 div.sk-parallel-item::after {content: \"\";width: 100%;border-bottom: 1px solid gray;flex-grow: 1;}#sk-container-id-1 div.sk-label:hover label.sk-toggleable__label {background-color: #d4ebff;}#sk-container-id-1 div.sk-serial::before {content: \"\";position: absolute;border-left: 1px solid gray;box-sizing: border-box;top: 0;bottom: 0;left: 50%;z-index: 0;}#sk-container-id-1 div.sk-serial {display: flex;flex-direction: column;align-items: center;background-color: white;padding-right: 0.2em;padding-left: 0.2em;position: relative;}#sk-container-id-1 div.sk-item {position: relative;z-index: 1;}#sk-container-id-1 div.sk-parallel {display: flex;align-items: stretch;justify-content: center;background-color: white;position: relative;}#sk-container-id-1 div.sk-item::before, #sk-container-id-1 div.sk-parallel-item::before {content: \"\";position: absolute;border-left: 1px solid gray;box-sizing: border-box;top: 0;bottom: 0;left: 50%;z-index: -1;}#sk-container-id-1 div.sk-parallel-item {display: flex;flex-direction: column;z-index: 1;position: relative;background-color: white;}#sk-container-id-1 div.sk-parallel-item:first-child::after {align-self: flex-end;width: 50%;}#sk-container-id-1 div.sk-parallel-item:last-child::after {align-self: flex-start;width: 50%;}#sk-container-id-1 div.sk-parallel-item:only-child::after {width: 0;}#sk-container-id-1 div.sk-dashed-wrapped {border: 1px dashed gray;margin: 0 0.4em 0.5em 0.4em;box-sizing: border-box;padding-bottom: 0.4em;background-color: white;}#sk-container-id-1 div.sk-label label {font-family: monospace;font-weight: bold;display: inline-block;line-height: 1.2em;}#sk-container-id-1 div.sk-label-container {text-align: center;}#sk-container-id-1 div.sk-container {/* jupyter's `normalize.less` sets `[hidden] { display: none; }` but bootstrap.min.css set `[hidden] { display: none !important; }` so we also need the `!important` here to be able to override the default hidden behavior on the sphinx rendered scikit-learn.org. See: https://github.com/scikit-learn/scikit-learn/issues/21755 */display: inline-block !important;position: relative;}#sk-container-id-1 div.sk-text-repr-fallback {display: none;}</style><div id=\"sk-container-id-1\" class=\"sk-top-container\"><div class=\"sk-text-repr-fallback\"><pre>RandomForestRegressor(n_estimators=1000)</pre><b>In a Jupyter environment, please rerun this cell to show the HTML representation or trust the notebook. <br />On GitHub, the HTML representation is unable to render, please try loading this page with nbviewer.org.</b></div><div class=\"sk-container\" hidden><div class=\"sk-item\"><div class=\"sk-estimator sk-toggleable\"><input class=\"sk-toggleable__control sk-hidden--visually\" id=\"sk-estimator-id-1\" type=\"checkbox\" checked><label for=\"sk-estimator-id-1\" class=\"sk-toggleable__label sk-toggleable__label-arrow\">RandomForestRegressor</label><div class=\"sk-toggleable__content\"><pre>RandomForestRegressor(n_estimators=1000)</pre></div></div></div></div></div>"
      ],
      "text/plain": [
       "RandomForestRegressor(n_estimators=1000)"
      ]
     },
     "execution_count": 18,
     "metadata": {},
     "output_type": "execute_result"
    }
   ],
   "source": [
    "# instantiate RF model\n",
    "model = RandomForestRegressor(n_estimators=1000)\n",
    "\n",
    "# fit model\n",
    "model.fit(train.drop(columns='dengue_cases'), train['dengue_cases'])"
   ]
  },
  {
   "cell_type": "code",
   "execution_count": 22,
   "id": "4b5d535a-9c70-4d17-a101-7ffe3e60e611",
   "metadata": {},
   "outputs": [
    {
     "data": {
      "text/plain": [
       "0.9897725821355172"
      ]
     },
     "execution_count": 22,
     "metadata": {},
     "output_type": "execute_result"
    }
   ],
   "source": [
    "model.score(train.drop(columns='dengue_cases'), train['dengue_cases'])"
   ]
  },
  {
   "cell_type": "code",
   "execution_count": 25,
   "id": "0feaebff-c122-47b7-a97f-2e860e3f3598",
   "metadata": {},
   "outputs": [],
   "source": [
    "preds = pd.DataFrame(model.predict(test.drop(columns='dengue_cases')), index=test.index)"
   ]
  },
  {
   "cell_type": "code",
   "execution_count": 27,
   "id": "9a959687-c210-4940-a5c7-e0392fa58256",
   "metadata": {},
   "outputs": [
    {
     "data": {
      "image/png": "[encoded data removed]",
      "text/plain": [
       "<Figure size 1000x600 with 1 Axes>"
      ]
     },
     "metadata": {},
     "output_type": "display_data"
    }
   ],
   "source": [
    "# Plot data.\n",
    "plt.figure(figsize=(10,6))\n",
    "\n",
    "# Plot training data in blue.\n",
    "plt.plot(train['dengue_cases'], color = 'blue')\n",
    "\n",
    "# Plot testing data in orange.\n",
    "plt.plot(test['dengue_cases'], color = 'orange')\n",
    "\n",
    "# Plot predicted values in green.\n",
    "plt.plot(preds, color = 'green')\n",
    "\n",
    "plt.title(label = 'Dengue Cases Predictions with Sliding Window RF', fontsize=18)\n",
    "plt.show();"
   ]
  },
  {
   "cell_type": "code",
   "execution_count": 28,
   "id": "492740da-8690-4339-a8c7-44518d3023d7",
   "metadata": {},
   "outputs": [
    {
     "name": "stdout",
     "output_type": "stream",
     "text": [
      "Minimum Dengue Cases: 40\n",
      "Maximum Dengue Cases: 1791\n",
      "RMSE: 272.0\n",
      "RMSE relative to minimum values in dengue cases: 7.0.\n",
      "RMSE relative to maximum values in dengue cases: 0.0.\n"
     ]
    }
   ],
   "source": [
    "# Evaluation of the model\n",
    "error = round(mean_squared_error(test['dengue_cases'], preds, squared=False), 0)\n",
    "print(f'Minimum Dengue Cases: {round(data[\"dengue_cases\"].min(),0)}')\n",
    "print(f'Maximum Dengue Cases: {round(data[\"dengue_cases\"].max(),0)}')\n",
    "\n",
    "print(f'RMSE: {error}')\n",
    "print(f'RMSE relative to minimum values in dengue cases: {round(error / data[\"dengue_cases\"].min(),0)}.')\n",
    "print(f'RMSE relative to maximum values in dengue cases: {round(error / data[\"dengue_cases\"].max(),0)}.')"
   ]
  }
 ],
 "metadata": {
  "kernelspec": {
   "display_name": "Python [conda env:dsi-sg]",
   "language": "python",
   "name": "conda-env-dsi-sg-py"
  },
  "language_info": {
   "codemirror_mode": {
    "name": "ipython",
    "version": 3
   },
   "file_extension": ".py",
   "mimetype": "text/x-python",
   "name": "python",
   "nbconvert_exporter": "python",
   "pygments_lexer": "ipython3",
   "version": "3.9.16"
  }
 },
 "nbformat": 4,
 "nbformat_minor": 5
}
