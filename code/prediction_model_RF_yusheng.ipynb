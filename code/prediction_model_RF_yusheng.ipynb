{
 "cells": [
  {
   "cell_type": "code",
   "execution_count": 1,
   "id": "c6918ec8-6f01-4907-ad69-9b87d72b67da",
   "metadata": {},
   "outputs": [],
   "source": [
    "# Import the necessary libraries\n",
    "import numpy as np\n",
    "import pandas as pd\n",
    "import matplotlib.pyplot as plt\n",
    "import pickle\n",
    "\n",
    "from sklearn.metrics import mean_squared_error, mean_absolute_percentage_error\n",
    "\n",
    "from sklearn.ensemble import RandomForestRegressor\n",
    "from sklearn.model_selection import RandomizedSearchCV, PredefinedSplit\n",
    "from scipy.stats import randint\n",
    "import random\n",
    "\n",
    "from modelling_functions import *\n",
    "\n",
    "#import warnings\n",
    "#warnings.simplefilter(action=\"ignore\")\n",
    "\n",
    "# Set all columns and rows to be displayed\n",
    "pd.set_option('display.max_columns', None)\n",
    "pd.set_option('display.max_rows', None)"
   ]
  },
  {
   "cell_type": "markdown",
   "id": "abb677df-09b1-4bbe-b885-5306447bef02",
   "metadata": {
    "tags": []
   },
   "source": [
    "### Import Data"
   ]
  },
  {
   "cell_type": "code",
   "execution_count": 2,
   "id": "a2a7e2da-5691-447d-8b0a-5897b4726682",
   "metadata": {},
   "outputs": [],
   "source": [
    "# Import the dataset\n",
    "data = pd.read_csv(\"../datasets/data_features.csv\")"
   ]
  },
  {
   "cell_type": "code",
   "execution_count": 3,
   "id": "515fd99a-e811-46fc-9bf1-c4b5e4af6df7",
   "metadata": {},
   "outputs": [
    {
     "data": {
      "text/html": [
       "<div>\n",
       "<style scoped>\n",
       "    .dataframe tbody tr th:only-of-type {\n",
       "        vertical-align: middle;\n",
       "    }\n",
       "\n",
       "    .dataframe tbody tr th {\n",
       "        vertical-align: top;\n",
       "    }\n",
       "\n",
       "    .dataframe thead th {\n",
       "        text-align: right;\n",
       "    }\n",
       "</style>\n",
       "<table border=\"1\" class=\"dataframe\">\n",
       "  <thead>\n",
       "    <tr style=\"text-align: right;\">\n",
       "      <th></th>\n",
       "      <th>time</th>\n",
       "      <th>dengue_cases</th>\n",
       "      <th>denv_1</th>\n",
       "      <th>denv_2</th>\n",
       "      <th>denv_3</th>\n",
       "      <th>denv_4</th>\n",
       "      <th>Mean Temperature (°C)</th>\n",
       "      <th>Mean Wind Speed (km/h)</th>\n",
       "      <th>Daily Rainfall Total (mm)</th>\n",
       "      <th>Maximum Temperature (°C)</th>\n",
       "      <th>Max Wind Speed (km/h)</th>\n",
       "      <th>Minimum Temperature (°C)</th>\n",
       "      <th>google_trends</th>\n",
       "      <th>s_ratio</th>\n",
       "      <th>month_2</th>\n",
       "      <th>month_3</th>\n",
       "      <th>month_4</th>\n",
       "      <th>month_5</th>\n",
       "      <th>month_6</th>\n",
       "      <th>month_7</th>\n",
       "      <th>month_8</th>\n",
       "      <th>month_9</th>\n",
       "      <th>month_10</th>\n",
       "      <th>month_11</th>\n",
       "      <th>month_12</th>\n",
       "    </tr>\n",
       "  </thead>\n",
       "  <tbody>\n",
       "    <tr>\n",
       "      <th>0</th>\n",
       "      <td>2018-04-08</td>\n",
       "      <td>38</td>\n",
       "      <td>NaN</td>\n",
       "      <td>NaN</td>\n",
       "      <td>NaN</td>\n",
       "      <td>NaN</td>\n",
       "      <td>NaN</td>\n",
       "      <td>NaN</td>\n",
       "      <td>NaN</td>\n",
       "      <td>NaN</td>\n",
       "      <td>NaN</td>\n",
       "      <td>NaN</td>\n",
       "      <td>NaN</td>\n",
       "      <td>0.000000</td>\n",
       "      <td>0</td>\n",
       "      <td>0</td>\n",
       "      <td>1</td>\n",
       "      <td>0</td>\n",
       "      <td>0</td>\n",
       "      <td>0</td>\n",
       "      <td>0</td>\n",
       "      <td>0</td>\n",
       "      <td>0</td>\n",
       "      <td>0</td>\n",
       "      <td>0</td>\n",
       "    </tr>\n",
       "    <tr>\n",
       "      <th>1</th>\n",
       "      <td>2018-04-15</td>\n",
       "      <td>56</td>\n",
       "      <td>0.0</td>\n",
       "      <td>0.505</td>\n",
       "      <td>0.484</td>\n",
       "      <td>0.011</td>\n",
       "      <td>28.528571</td>\n",
       "      <td>10.714286</td>\n",
       "      <td>0.742857</td>\n",
       "      <td>33.8</td>\n",
       "      <td>36.7</td>\n",
       "      <td>25.5</td>\n",
       "      <td>20.0</td>\n",
       "      <td>0.725367</td>\n",
       "      <td>0</td>\n",
       "      <td>0</td>\n",
       "      <td>1</td>\n",
       "      <td>0</td>\n",
       "      <td>0</td>\n",
       "      <td>0</td>\n",
       "      <td>0</td>\n",
       "      <td>0</td>\n",
       "      <td>0</td>\n",
       "      <td>0</td>\n",
       "      <td>0</td>\n",
       "    </tr>\n",
       "    <tr>\n",
       "      <th>2</th>\n",
       "      <td>2018-04-22</td>\n",
       "      <td>55</td>\n",
       "      <td>0.0</td>\n",
       "      <td>0.505</td>\n",
       "      <td>0.484</td>\n",
       "      <td>0.011</td>\n",
       "      <td>28.914286</td>\n",
       "      <td>9.828571</td>\n",
       "      <td>2.057143</td>\n",
       "      <td>34.4</td>\n",
       "      <td>38.2</td>\n",
       "      <td>24.6</td>\n",
       "      <td>18.0</td>\n",
       "      <td>0.725189</td>\n",
       "      <td>0</td>\n",
       "      <td>0</td>\n",
       "      <td>1</td>\n",
       "      <td>0</td>\n",
       "      <td>0</td>\n",
       "      <td>0</td>\n",
       "      <td>0</td>\n",
       "      <td>0</td>\n",
       "      <td>0</td>\n",
       "      <td>0</td>\n",
       "      <td>0</td>\n",
       "    </tr>\n",
       "    <tr>\n",
       "      <th>3</th>\n",
       "      <td>2018-04-29</td>\n",
       "      <td>74</td>\n",
       "      <td>0.0</td>\n",
       "      <td>0.505</td>\n",
       "      <td>0.484</td>\n",
       "      <td>0.011</td>\n",
       "      <td>28.142857</td>\n",
       "      <td>7.700000</td>\n",
       "      <td>0.371429</td>\n",
       "      <td>34.3</td>\n",
       "      <td>37.1</td>\n",
       "      <td>25.5</td>\n",
       "      <td>21.0</td>\n",
       "      <td>0.725087</td>\n",
       "      <td>0</td>\n",
       "      <td>0</td>\n",
       "      <td>1</td>\n",
       "      <td>0</td>\n",
       "      <td>0</td>\n",
       "      <td>0</td>\n",
       "      <td>0</td>\n",
       "      <td>0</td>\n",
       "      <td>0</td>\n",
       "      <td>0</td>\n",
       "      <td>0</td>\n",
       "    </tr>\n",
       "    <tr>\n",
       "      <th>4</th>\n",
       "      <td>2018-05-06</td>\n",
       "      <td>62</td>\n",
       "      <td>0.0</td>\n",
       "      <td>0.505</td>\n",
       "      <td>0.484</td>\n",
       "      <td>0.011</td>\n",
       "      <td>28.414286</td>\n",
       "      <td>6.842857</td>\n",
       "      <td>4.800000</td>\n",
       "      <td>35.0</td>\n",
       "      <td>43.6</td>\n",
       "      <td>22.6</td>\n",
       "      <td>23.0</td>\n",
       "      <td>0.724806</td>\n",
       "      <td>0</td>\n",
       "      <td>0</td>\n",
       "      <td>0</td>\n",
       "      <td>1</td>\n",
       "      <td>0</td>\n",
       "      <td>0</td>\n",
       "      <td>0</td>\n",
       "      <td>0</td>\n",
       "      <td>0</td>\n",
       "      <td>0</td>\n",
       "      <td>0</td>\n",
       "    </tr>\n",
       "  </tbody>\n",
       "</table>\n",
       "</div>"
      ],
      "text/plain": [
       "         time  dengue_cases  denv_1  denv_2  denv_3  denv_4  \\\n",
       "0  2018-04-08            38     NaN     NaN     NaN     NaN   \n",
       "1  2018-04-15            56     0.0   0.505   0.484   0.011   \n",
       "2  2018-04-22            55     0.0   0.505   0.484   0.011   \n",
       "3  2018-04-29            74     0.0   0.505   0.484   0.011   \n",
       "4  2018-05-06            62     0.0   0.505   0.484   0.011   \n",
       "\n",
       "   Mean Temperature (°C)  Mean Wind Speed (km/h)  Daily Rainfall Total (mm)  \\\n",
       "0                    NaN                     NaN                        NaN   \n",
       "1              28.528571               10.714286                   0.742857   \n",
       "2              28.914286                9.828571                   2.057143   \n",
       "3              28.142857                7.700000                   0.371429   \n",
       "4              28.414286                6.842857                   4.800000   \n",
       "\n",
       "   Maximum Temperature (°C)  Max Wind Speed (km/h)  Minimum Temperature (°C)  \\\n",
       "0                       NaN                    NaN                       NaN   \n",
       "1                      33.8                   36.7                      25.5   \n",
       "2                      34.4                   38.2                      24.6   \n",
       "3                      34.3                   37.1                      25.5   \n",
       "4                      35.0                   43.6                      22.6   \n",
       "\n",
       "   google_trends   s_ratio  month_2  month_3  month_4  month_5  month_6  \\\n",
       "0            NaN  0.000000        0        0        1        0        0   \n",
       "1           20.0  0.725367        0        0        1        0        0   \n",
       "2           18.0  0.725189        0        0        1        0        0   \n",
       "3           21.0  0.725087        0        0        1        0        0   \n",
       "4           23.0  0.724806        0        0        0        1        0   \n",
       "\n",
       "   month_7  month_8  month_9  month_10  month_11  month_12  \n",
       "0        0        0        0         0         0         0  \n",
       "1        0        0        0         0         0         0  \n",
       "2        0        0        0         0         0         0  \n",
       "3        0        0        0         0         0         0  \n",
       "4        0        0        0         0         0         0  "
      ]
     },
     "execution_count": 3,
     "metadata": {},
     "output_type": "execute_result"
    }
   ],
   "source": [
    "# Check the data\n",
    "data.head()"
   ]
  },
  {
   "cell_type": "code",
   "execution_count": 4,
   "id": "35a05baa-45f6-4b67-ab70-709eebaefaa8",
   "metadata": {},
   "outputs": [
    {
     "data": {
      "text/plain": [
       "(257, 25)"
      ]
     },
     "execution_count": 4,
     "metadata": {},
     "output_type": "execute_result"
    }
   ],
   "source": [
    "# Check the shape of the data\n",
    "data.shape"
   ]
  },
  {
   "cell_type": "code",
   "execution_count": 5,
   "id": "66849088-a043-4feb-a7dd-0a838e65a314",
   "metadata": {},
   "outputs": [
    {
     "name": "stdout",
     "output_type": "stream",
     "text": [
      "<class 'pandas.core.frame.DataFrame'>\n",
      "RangeIndex: 257 entries, 0 to 256\n",
      "Data columns (total 25 columns):\n",
      " #   Column                     Non-Null Count  Dtype  \n",
      "---  ------                     --------------  -----  \n",
      " 0   time                       257 non-null    object \n",
      " 1   dengue_cases               257 non-null    int64  \n",
      " 2   denv_1                     256 non-null    float64\n",
      " 3   denv_2                     256 non-null    float64\n",
      " 4   denv_3                     256 non-null    float64\n",
      " 5   denv_4                     256 non-null    float64\n",
      " 6   Mean Temperature (°C)      256 non-null    float64\n",
      " 7   Mean Wind Speed (km/h)     256 non-null    float64\n",
      " 8   Daily Rainfall Total (mm)  256 non-null    float64\n",
      " 9   Maximum Temperature (°C)   256 non-null    float64\n",
      " 10  Max Wind Speed (km/h)      256 non-null    float64\n",
      " 11  Minimum Temperature (°C)   256 non-null    float64\n",
      " 12  google_trends              256 non-null    float64\n",
      " 13  s_ratio                    257 non-null    float64\n",
      " 14  month_2                    257 non-null    int64  \n",
      " 15  month_3                    257 non-null    int64  \n",
      " 16  month_4                    257 non-null    int64  \n",
      " 17  month_5                    257 non-null    int64  \n",
      " 18  month_6                    257 non-null    int64  \n",
      " 19  month_7                    257 non-null    int64  \n",
      " 20  month_8                    257 non-null    int64  \n",
      " 21  month_9                    257 non-null    int64  \n",
      " 22  month_10                   257 non-null    int64  \n",
      " 23  month_11                   257 non-null    int64  \n",
      " 24  month_12                   257 non-null    int64  \n",
      "dtypes: float64(12), int64(12), object(1)\n",
      "memory usage: 50.3+ KB\n"
     ]
    }
   ],
   "source": [
    "# Look at the datatypes\n",
    "data.info()"
   ]
  },
  {
   "cell_type": "markdown",
   "id": "c014ccc6-cd32-4e27-af81-a8ee8a09ab7c",
   "metadata": {
    "tags": []
   },
   "source": [
    "### Date Processing"
   ]
  },
  {
   "cell_type": "markdown",
   "id": "b105f91d-91eb-46da-96a9-efb392feb38b",
   "metadata": {},
   "source": [
    "The date feature is currently an object time. We will be converting it into a dateTime format."
   ]
  },
  {
   "cell_type": "code",
   "execution_count": 6,
   "id": "7bfbebb4-2527-4b55-bd37-806b6fc66418",
   "metadata": {},
   "outputs": [],
   "source": [
    "# Convert the date column into dateTime format\n",
    "data['time'] = pd.to_datetime(data['time'])"
   ]
  },
  {
   "cell_type": "code",
   "execution_count": 7,
   "id": "b620f55f-8272-468f-8348-d59a1119e506",
   "metadata": {},
   "outputs": [],
   "source": [
    "# Set the time as the index\n",
    "data = data.set_index('time')"
   ]
  },
  {
   "cell_type": "code",
   "execution_count": 8,
   "id": "665f31a1-5acb-497e-894d-612bf9439142",
   "metadata": {},
   "outputs": [
    {
     "data": {
      "text/html": [
       "<div>\n",
       "<style scoped>\n",
       "    .dataframe tbody tr th:only-of-type {\n",
       "        vertical-align: middle;\n",
       "    }\n",
       "\n",
       "    .dataframe tbody tr th {\n",
       "        vertical-align: top;\n",
       "    }\n",
       "\n",
       "    .dataframe thead th {\n",
       "        text-align: right;\n",
       "    }\n",
       "</style>\n",
       "<table border=\"1\" class=\"dataframe\">\n",
       "  <thead>\n",
       "    <tr style=\"text-align: right;\">\n",
       "      <th></th>\n",
       "      <th>dengue_cases</th>\n",
       "      <th>denv_1</th>\n",
       "      <th>denv_2</th>\n",
       "      <th>denv_3</th>\n",
       "      <th>denv_4</th>\n",
       "      <th>Mean Temperature (°C)</th>\n",
       "      <th>Mean Wind Speed (km/h)</th>\n",
       "      <th>Daily Rainfall Total (mm)</th>\n",
       "      <th>Maximum Temperature (°C)</th>\n",
       "      <th>Max Wind Speed (km/h)</th>\n",
       "      <th>Minimum Temperature (°C)</th>\n",
       "      <th>google_trends</th>\n",
       "      <th>s_ratio</th>\n",
       "      <th>month_2</th>\n",
       "      <th>month_3</th>\n",
       "      <th>month_4</th>\n",
       "      <th>month_5</th>\n",
       "      <th>month_6</th>\n",
       "      <th>month_7</th>\n",
       "      <th>month_8</th>\n",
       "      <th>month_9</th>\n",
       "      <th>month_10</th>\n",
       "      <th>month_11</th>\n",
       "      <th>month_12</th>\n",
       "    </tr>\n",
       "    <tr>\n",
       "      <th>time</th>\n",
       "      <th></th>\n",
       "      <th></th>\n",
       "      <th></th>\n",
       "      <th></th>\n",
       "      <th></th>\n",
       "      <th></th>\n",
       "      <th></th>\n",
       "      <th></th>\n",
       "      <th></th>\n",
       "      <th></th>\n",
       "      <th></th>\n",
       "      <th></th>\n",
       "      <th></th>\n",
       "      <th></th>\n",
       "      <th></th>\n",
       "      <th></th>\n",
       "      <th></th>\n",
       "      <th></th>\n",
       "      <th></th>\n",
       "      <th></th>\n",
       "      <th></th>\n",
       "      <th></th>\n",
       "      <th></th>\n",
       "      <th></th>\n",
       "    </tr>\n",
       "  </thead>\n",
       "  <tbody>\n",
       "    <tr>\n",
       "      <th>2018-04-08</th>\n",
       "      <td>38</td>\n",
       "      <td>NaN</td>\n",
       "      <td>NaN</td>\n",
       "      <td>NaN</td>\n",
       "      <td>NaN</td>\n",
       "      <td>NaN</td>\n",
       "      <td>NaN</td>\n",
       "      <td>NaN</td>\n",
       "      <td>NaN</td>\n",
       "      <td>NaN</td>\n",
       "      <td>NaN</td>\n",
       "      <td>NaN</td>\n",
       "      <td>0.000000</td>\n",
       "      <td>0</td>\n",
       "      <td>0</td>\n",
       "      <td>1</td>\n",
       "      <td>0</td>\n",
       "      <td>0</td>\n",
       "      <td>0</td>\n",
       "      <td>0</td>\n",
       "      <td>0</td>\n",
       "      <td>0</td>\n",
       "      <td>0</td>\n",
       "      <td>0</td>\n",
       "    </tr>\n",
       "    <tr>\n",
       "      <th>2018-04-15</th>\n",
       "      <td>56</td>\n",
       "      <td>0.0</td>\n",
       "      <td>0.505</td>\n",
       "      <td>0.484</td>\n",
       "      <td>0.011</td>\n",
       "      <td>28.528571</td>\n",
       "      <td>10.714286</td>\n",
       "      <td>0.742857</td>\n",
       "      <td>33.8</td>\n",
       "      <td>36.7</td>\n",
       "      <td>25.5</td>\n",
       "      <td>20.0</td>\n",
       "      <td>0.725367</td>\n",
       "      <td>0</td>\n",
       "      <td>0</td>\n",
       "      <td>1</td>\n",
       "      <td>0</td>\n",
       "      <td>0</td>\n",
       "      <td>0</td>\n",
       "      <td>0</td>\n",
       "      <td>0</td>\n",
       "      <td>0</td>\n",
       "      <td>0</td>\n",
       "      <td>0</td>\n",
       "    </tr>\n",
       "    <tr>\n",
       "      <th>2018-04-22</th>\n",
       "      <td>55</td>\n",
       "      <td>0.0</td>\n",
       "      <td>0.505</td>\n",
       "      <td>0.484</td>\n",
       "      <td>0.011</td>\n",
       "      <td>28.914286</td>\n",
       "      <td>9.828571</td>\n",
       "      <td>2.057143</td>\n",
       "      <td>34.4</td>\n",
       "      <td>38.2</td>\n",
       "      <td>24.6</td>\n",
       "      <td>18.0</td>\n",
       "      <td>0.725189</td>\n",
       "      <td>0</td>\n",
       "      <td>0</td>\n",
       "      <td>1</td>\n",
       "      <td>0</td>\n",
       "      <td>0</td>\n",
       "      <td>0</td>\n",
       "      <td>0</td>\n",
       "      <td>0</td>\n",
       "      <td>0</td>\n",
       "      <td>0</td>\n",
       "      <td>0</td>\n",
       "    </tr>\n",
       "    <tr>\n",
       "      <th>2018-04-29</th>\n",
       "      <td>74</td>\n",
       "      <td>0.0</td>\n",
       "      <td>0.505</td>\n",
       "      <td>0.484</td>\n",
       "      <td>0.011</td>\n",
       "      <td>28.142857</td>\n",
       "      <td>7.700000</td>\n",
       "      <td>0.371429</td>\n",
       "      <td>34.3</td>\n",
       "      <td>37.1</td>\n",
       "      <td>25.5</td>\n",
       "      <td>21.0</td>\n",
       "      <td>0.725087</td>\n",
       "      <td>0</td>\n",
       "      <td>0</td>\n",
       "      <td>1</td>\n",
       "      <td>0</td>\n",
       "      <td>0</td>\n",
       "      <td>0</td>\n",
       "      <td>0</td>\n",
       "      <td>0</td>\n",
       "      <td>0</td>\n",
       "      <td>0</td>\n",
       "      <td>0</td>\n",
       "    </tr>\n",
       "    <tr>\n",
       "      <th>2018-05-06</th>\n",
       "      <td>62</td>\n",
       "      <td>0.0</td>\n",
       "      <td>0.505</td>\n",
       "      <td>0.484</td>\n",
       "      <td>0.011</td>\n",
       "      <td>28.414286</td>\n",
       "      <td>6.842857</td>\n",
       "      <td>4.800000</td>\n",
       "      <td>35.0</td>\n",
       "      <td>43.6</td>\n",
       "      <td>22.6</td>\n",
       "      <td>23.0</td>\n",
       "      <td>0.724806</td>\n",
       "      <td>0</td>\n",
       "      <td>0</td>\n",
       "      <td>0</td>\n",
       "      <td>1</td>\n",
       "      <td>0</td>\n",
       "      <td>0</td>\n",
       "      <td>0</td>\n",
       "      <td>0</td>\n",
       "      <td>0</td>\n",
       "      <td>0</td>\n",
       "      <td>0</td>\n",
       "    </tr>\n",
       "  </tbody>\n",
       "</table>\n",
       "</div>"
      ],
      "text/plain": [
       "            dengue_cases  denv_1  denv_2  denv_3  denv_4  \\\n",
       "time                                                       \n",
       "2018-04-08            38     NaN     NaN     NaN     NaN   \n",
       "2018-04-15            56     0.0   0.505   0.484   0.011   \n",
       "2018-04-22            55     0.0   0.505   0.484   0.011   \n",
       "2018-04-29            74     0.0   0.505   0.484   0.011   \n",
       "2018-05-06            62     0.0   0.505   0.484   0.011   \n",
       "\n",
       "            Mean Temperature (°C)  Mean Wind Speed (km/h)  \\\n",
       "time                                                        \n",
       "2018-04-08                    NaN                     NaN   \n",
       "2018-04-15              28.528571               10.714286   \n",
       "2018-04-22              28.914286                9.828571   \n",
       "2018-04-29              28.142857                7.700000   \n",
       "2018-05-06              28.414286                6.842857   \n",
       "\n",
       "            Daily Rainfall Total (mm)  Maximum Temperature (°C)  \\\n",
       "time                                                              \n",
       "2018-04-08                        NaN                       NaN   \n",
       "2018-04-15                   0.742857                      33.8   \n",
       "2018-04-22                   2.057143                      34.4   \n",
       "2018-04-29                   0.371429                      34.3   \n",
       "2018-05-06                   4.800000                      35.0   \n",
       "\n",
       "            Max Wind Speed (km/h)  Minimum Temperature (°C)  google_trends  \\\n",
       "time                                                                         \n",
       "2018-04-08                    NaN                       NaN            NaN   \n",
       "2018-04-15                   36.7                      25.5           20.0   \n",
       "2018-04-22                   38.2                      24.6           18.0   \n",
       "2018-04-29                   37.1                      25.5           21.0   \n",
       "2018-05-06                   43.6                      22.6           23.0   \n",
       "\n",
       "             s_ratio  month_2  month_3  month_4  month_5  month_6  month_7  \\\n",
       "time                                                                         \n",
       "2018-04-08  0.000000        0        0        1        0        0        0   \n",
       "2018-04-15  0.725367        0        0        1        0        0        0   \n",
       "2018-04-22  0.725189        0        0        1        0        0        0   \n",
       "2018-04-29  0.725087        0        0        1        0        0        0   \n",
       "2018-05-06  0.724806        0        0        0        1        0        0   \n",
       "\n",
       "            month_8  month_9  month_10  month_11  month_12  \n",
       "time                                                        \n",
       "2018-04-08        0        0         0         0         0  \n",
       "2018-04-15        0        0         0         0         0  \n",
       "2018-04-22        0        0         0         0         0  \n",
       "2018-04-29        0        0         0         0         0  \n",
       "2018-05-06        0        0         0         0         0  "
      ]
     },
     "execution_count": 8,
     "metadata": {},
     "output_type": "execute_result"
    }
   ],
   "source": [
    "# Check the data \n",
    "data.head()"
   ]
  },
  {
   "cell_type": "code",
   "execution_count": 9,
   "id": "ae2be478-96cf-4692-9c2d-b58fb42d83c5",
   "metadata": {},
   "outputs": [],
   "source": [
    "# set frequency of data\n",
    "data = data.asfreq('W-SUN')\n",
    "\n",
    "# remove first row\n",
    "data = data[1:]"
   ]
  },
  {
   "cell_type": "code",
   "execution_count": 10,
   "id": "ff24f72b-d1d3-45d6-bc80-4e385a7d835f",
   "metadata": {},
   "outputs": [],
   "source": [
    "# drop unnecessary rows\n",
    "data.drop(columns=['denv_1', 'denv_2', 'denv_3', 'denv_4'\n",
    "                   #'Mean Temperature (°C)', 'Mean Wind Speed (km/h)',\n",
    "                   #'Maximum Temperature (°C)', 'Max Wind Speed (km/h)'\n",
    "                  ],\n",
    "          inplace=True\n",
    "         )"
   ]
  },
  {
   "cell_type": "code",
   "execution_count": 11,
   "id": "854d9371-794d-4790-b536-bca0be5ab66f",
   "metadata": {},
   "outputs": [],
   "source": [
    "# subset data to remove 2023 data which will be used for verification later\n",
    "data_subset = data.loc[data.index.year <= 2022, :]"
   ]
  },
  {
   "cell_type": "markdown",
   "id": "944f2481-0d1c-4ab5-81e7-0392e4a3d234",
   "metadata": {
    "tags": []
   },
   "source": [
    "### Train/Test Split"
   ]
  },
  {
   "cell_type": "markdown",
   "id": "c293ba19-7229-4bb7-8b92-6828d0458d3e",
   "metadata": {},
   "source": [
    "Given that this is a time series, we do a 30% train test split by time\n",
    "* Train: ~75% of data - 2018 to 2021\n",
    "* Test: ~25% of data - 2022 to 2023"
   ]
  },
  {
   "cell_type": "code",
   "execution_count": 13,
   "id": "6b826299-1602-49ac-93f3-586e8b88f901",
   "metadata": {},
   "outputs": [
    {
     "data": {
      "text/plain": [
       "0.7587548638132295"
      ]
     },
     "execution_count": 13,
     "metadata": {},
     "output_type": "execute_result"
    }
   ],
   "source": [
    "# with 257 datapoints, the 195th data point is the end of 2018 and coincides with 75th percentile of datapoints by time\n",
    "195/257"
   ]
  },
  {
   "cell_type": "code",
   "execution_count": 19,
   "id": "56413e2c-0137-4308-80d1-017fe7fa713d",
   "metadata": {
    "tags": []
   },
   "outputs": [],
   "source": [
    "train, test = train_test_split(data)"
   ]
  },
  {
   "cell_type": "code",
   "execution_count": 20,
   "id": "6ba2f104-c5b6-4350-a3bc-aa149ce77a60",
   "metadata": {},
   "outputs": [
    {
     "data": {
      "image/png": "[encoded data removed]",
      "text/plain": [
       "<Figure size 1500x500 with 1 Axes>"
      ]
     },
     "metadata": {},
     "output_type": "display_data"
    }
   ],
   "source": [
    "train_test_plot(train, test)"
   ]
  },
  {
   "cell_type": "markdown",
   "id": "8feb0b4b-b4e4-4c31-b86e-c581404181b1",
   "metadata": {},
   "source": [
    "## Random Forest Regression on Time Series"
   ]
  },
  {
   "cell_type": "markdown",
   "id": "784f6660-77e9-4169-a081-b90fa1476228",
   "metadata": {},
   "source": [
    "#### Tuning Variables to be Included"
   ]
  },
  {
   "cell_type": "code",
   "execution_count": 227,
   "id": "20e4165b-40f6-4199-b6c2-3764aeaa8bef",
   "metadata": {},
   "outputs": [],
   "source": [
    "# try adding predictors one by one and see which ones gives better predictive power\n",
    "# predictors are arranged in order of what we think predicts best to worse\n",
    "vars_to_try = [\n",
    "    'google_trends',\n",
    "    'Minimum Temperature (°C)', 'Daily Rainfall Total (mm)',\n",
    "    'Mean Temperature (°C)', 'Maximum Temperature (°C)',\n",
    "    'Mean Wind Speed (km/h)', 'Max Wind Speed (km/h)',\n",
    "    's_ratio'\n",
    "]"
   ]
  },
  {
   "cell_type": "code",
   "execution_count": 228,
   "id": "4cbf14fa-cdd9-42fe-8323-7885c182f034",
   "metadata": {},
   "outputs": [
    {
     "name": "stdout",
     "output_type": "stream",
     "text": [
      "Completed model fitting with 1 variables\n",
      "Completed model fitting with 2 variables\n",
      "Completed model fitting with 3 variables\n",
      "Completed model fitting with 4 variables\n",
      "Completed model fitting with 5 variables\n",
      "Completed model fitting with 6 variables\n",
      "Completed model fitting with 7 variables\n",
      "Completed model fitting with 8 variables\n"
     ]
    }
   ],
   "source": [
    "# create empty dictionary\n",
    "overall_results = dict()\n",
    "\n",
    "for i in range(1, len(vars_to_try)+1):\n",
    "    # iteratively add on each predictor to test default rf model\n",
    "    vars_to_try_full = vars_to_try[:i].copy()\n",
    "    vars_to_try_full.append('dengue_cases')\n",
    "    \n",
    "    # fit model and get metrics for selected predictors\n",
    "    overall_results[vars_to_try[i-1]] = test_rf_model(data.loc[data.index.year <= 2022, vars_to_try_full], \n",
    "                                                      test_year=2022, vars_lag=vars_to_try[:i], \n",
    "                                                      num_lag=4, rf_params=rf_params)\n",
    "    print(f'Completed model fitting with {i} variables')\n",
    "    \n",
    "# convert metrics into dataframe for easier plotting\n",
    "overall_results = (pd.DataFrame.from_dict(overall_results)).T"
   ]
  },
  {
   "cell_type": "code",
   "execution_count": 229,
   "id": "c4232015-53ce-4fdf-97a6-517355f52f76",
   "metadata": {},
   "outputs": [
    {
     "data": {
      "text/plain": [
       "<Axes: title={'center': 'RMSE vs Cumulative Variables'}>"
      ]
     },
     "execution_count": 229,
     "metadata": {},
     "output_type": "execute_result"
    },
    {
     "data": {
      "image/png": "[encoded data removed]",
      "text/plain": [
       "<Figure size 640x480 with 1 Axes>"
      ]
     },
     "metadata": {},
     "output_type": "display_data"
    }
   ],
   "source": [
    "# plot test RMSE to observe if additional variables improve the RMSE\n",
    "overall_results.reindex(overall_results.index[::-1])['rmse_train'].plot(kind='barh', title='RMSE vs Cumulative Variables')\n"
   ]
  },
  {
   "cell_type": "markdown",
   "id": "dee41b29-43e5-46b5-9676-49c40868b46d",
   "metadata": {},
   "source": [
    "Observations:\n",
    "\n",
    "- Variables that provide good predictive power should lower the RMSE, hence we find variables that reduce the RMSE upon being added\n",
    "- These variables are\n",
    "    - `google_trends`\n",
    "    - `Minimum Temperature (°C)`\n",
    "    - `Daily Rainfall Total (mm)`\n",
    "    - `Mean Wind Speed (km/h)`\n",
    "    - `s_ratio`\n",
    "- We will use these variables and the month dummies created previously"
   ]
  },
  {
   "cell_type": "markdown",
   "id": "c665883e-551b-4532-a6e6-00fdb7d9c7e6",
   "metadata": {},
   "source": [
    "#### Tuning of Number of Lags"
   ]
  },
  {
   "cell_type": "code",
   "execution_count": 16,
   "id": "eadbf604-902e-4b35-be8d-e87ebd7b0c30",
   "metadata": {},
   "outputs": [],
   "source": [
    "vars_to_try = [\n",
    "    'google_trends',\n",
    "    'Minimum Temperature (°C)', 'Daily Rainfall Total (mm)',\n",
    "    'Mean Wind Speed (km/h)',\n",
    "    's_ratio'\n",
    "]\n",
    "\n",
    "vars_to_try_full = vars_to_try.copy()\n",
    "vars_to_try_full += [var for var in data.columns if 'month' in var] # inserting month variables into predictor list\n",
    "vars_to_try_full.append('dengue_cases')"
   ]
  },
  {
   "cell_type": "code",
   "execution_count": 253,
   "id": "3ec8fbfd-d7cc-4695-a99e-6d26f3abc5d4",
   "metadata": {
    "scrolled": true,
    "tags": []
   },
   "outputs": [
    {
     "name": "stdout",
     "output_type": "stream",
     "text": [
      "Completed model fitting with 0 lags\n",
      "Completed model fitting with 1 lags\n",
      "Completed model fitting with 2 lags\n",
      "Completed model fitting with 3 lags\n",
      "Completed model fitting with 4 lags\n",
      "Completed model fitting with 5 lags\n",
      "Completed model fitting with 6 lags\n",
      "Completed model fitting with 7 lags\n",
      "Completed model fitting with 8 lags\n",
      "Completed model fitting with 9 lags\n",
      "Completed model fitting with 10 lags\n",
      "Completed model fitting with 11 lags\n",
      "Completed model fitting with 12 lags\n",
      "Completed model fitting with 13 lags\n",
      "Completed model fitting with 14 lags\n",
      "Completed model fitting with 15 lags\n",
      "Completed model fitting with 16 lags\n",
      "Completed model fitting with 17 lags\n",
      "Completed model fitting with 18 lags\n",
      "Completed model fitting with 19 lags\n",
      "Completed model fitting with 20 lags\n",
      "Completed model fitting with 21 lags\n",
      "Completed model fitting with 22 lags\n",
      "Completed model fitting with 23 lags\n",
      "Completed model fitting with 24 lags\n",
      "Completed model fitting with 25 lags\n",
      "Completed model fitting with 26 lags\n",
      "Completed model fitting with 27 lags\n",
      "Completed model fitting with 28 lags\n",
      "Completed model fitting with 29 lags\n",
      "Completed model fitting with 30 lags\n",
      "Completed model fitting with 31 lags\n",
      "Completed model fitting with 32 lags\n",
      "Completed model fitting with 33 lags\n",
      "Completed model fitting with 34 lags\n",
      "Completed model fitting with 35 lags\n",
      "Completed model fitting with 36 lags\n",
      "Completed model fitting with 37 lags\n",
      "Completed model fitting with 38 lags\n",
      "Completed model fitting with 39 lags\n",
      "Completed model fitting with 40 lags\n",
      "Completed model fitting with 41 lags\n",
      "Completed model fitting with 42 lags\n",
      "Completed model fitting with 43 lags\n",
      "Completed model fitting with 44 lags\n",
      "Completed model fitting with 45 lags\n",
      "Completed model fitting with 46 lags\n",
      "Completed model fitting with 47 lags\n",
      "Completed model fitting with 48 lags\n",
      "Completed model fitting with 49 lags\n",
      "Completed model fitting with 50 lags\n",
      "Completed model fitting with 51 lags\n",
      "Completed model fitting with 52 lags\n",
      "CPU times: total: 7min 33s\n",
      "Wall time: 8min 54s\n"
     ]
    }
   ],
   "source": [
    "%%time\n",
    "# create empty dictionary\n",
    "overall_results = dict()\n",
    "\n",
    "for i in range(0, 53): # try up to 52 weeks of lags\n",
    "    \n",
    "    # fit model and get metrics for selected predictors\n",
    "    overall_results[i] = test_rf_model(data.loc[data.index.year <= 2022, vars_to_try_full], \n",
    "                                                test_year=2022, vars_lag=vars_to_try, \n",
    "                                                num_lag=i, rf_params=rf_params)\n",
    "    print(f'Completed model fitting with {i} lags')\n",
    "    \n",
    "# convert metrics into dataframe for easier plotting\n",
    "overall_results = (pd.DataFrame.from_dict(overall_results)).T"
   ]
  },
  {
   "cell_type": "code",
   "execution_count": 254,
   "id": "15b63c42-63b2-4b33-aaec-65080b7125e4",
   "metadata": {
    "scrolled": true,
    "tags": []
   },
   "outputs": [
    {
     "data": {
      "image/png": "[encoded data removed]",
      "text/plain": [
       "<Figure size 500x1000 with 1 Axes>"
      ]
     },
     "metadata": {},
     "output_type": "display_data"
    }
   ],
   "source": [
    "# plot test RMSE to observe if additional variables improve the RMSE\n",
    "plt.figure(figsize=(5,10))\n",
    "overall_results.reindex(overall_results.index[::-1])['rmse_train'].plot(kind='barh', title='RMSE vs Number of lags')\n",
    "\n",
    "plt.tight_layout()"
   ]
  },
  {
   "cell_type": "code",
   "execution_count": 255,
   "id": "7288fc95-8fe6-428e-978f-6a55c2b6627a",
   "metadata": {},
   "outputs": [
    {
     "data": {
      "text/plain": [
       "19    31.967094\n",
       "10    32.102407\n",
       "8     32.112577\n",
       "16    32.324622\n",
       "13    32.615832\n",
       "20    32.653635\n",
       "7     32.685014\n",
       "17    32.727550\n",
       "14    32.738831\n",
       "21    32.765299\n",
       "Name: rmse_train, dtype: float64"
      ]
     },
     "execution_count": 255,
     "metadata": {},
     "output_type": "execute_result"
    }
   ],
   "source": [
    "overall_results['rmse_train'].sort_values().head(10)"
   ]
  },
  {
   "cell_type": "code",
   "execution_count": 256,
   "id": "646da98c-908c-48d7-a444-fc677714ba84",
   "metadata": {},
   "outputs": [
    {
     "data": {
      "text/plain": [
       "5    251.899540\n",
       "3    251.975144\n",
       "2    252.303405\n",
       "4    252.911994\n",
       "1    255.099159\n",
       "6    256.637749\n",
       "7    260.587182\n",
       "8    266.845252\n",
       "0    270.039375\n",
       "9    275.214673\n",
       "Name: rmse_test, dtype: float64"
      ]
     },
     "execution_count": 256,
     "metadata": {},
     "output_type": "execute_result"
    }
   ],
   "source": [
    "overall_results['rmse_test'].sort_values().head(10)"
   ]
  },
  {
   "cell_type": "markdown",
   "id": "0afd19e4-ed6a-444b-b28a-dff086fb3e1e",
   "metadata": {},
   "source": [
    "Observations:\n",
    "\n",
    "- Lag of 7 weeks performs well in both the train and test RMSE"
   ]
  },
  {
   "cell_type": "markdown",
   "id": "2fd1629e-be4d-47ef-8f61-86cb2b053e36",
   "metadata": {},
   "source": [
    "#### Tuning Hyperparameters"
   ]
  },
  {
   "cell_type": "code",
   "execution_count": 12,
   "id": "7fbad0fe-bff2-4cd2-9fbb-df4044bd8b39",
   "metadata": {},
   "outputs": [],
   "source": [
    "# reload list of variables\n",
    "vars_to_try = [\n",
    "    'google_trends',\n",
    "    'Minimum Temperature (°C)', \n",
    "    'Daily Rainfall Total (mm)',\n",
    "    'Mean Wind Speed (km/h)',\n",
    "    's_ratio'\n",
    "]\n",
    "\n",
    "vars_to_try_full = vars_to_try.copy()\n",
    "vars_to_try_full += [var for var in data.columns if 'month' in var] # inserting month variables into predictor list\n",
    "vars_to_try_full.append('dengue_cases')"
   ]
  },
  {
   "cell_type": "code",
   "execution_count": 13,
   "id": "2e15382d-7d26-4e6b-a2b9-52ab367a3881",
   "metadata": {},
   "outputs": [],
   "source": [
    "# set best number of lags\n",
    "num_lags = 7"
   ]
  },
  {
   "cell_type": "code",
   "execution_count": 14,
   "id": "75eb45fe-6bf5-4449-bfb2-9a3ab5527f02",
   "metadata": {},
   "outputs": [],
   "source": [
    "rf_params = {\n",
    "    'n_estimators':1000, \n",
    "    'random_state':42\n",
    "}"
   ]
  },
  {
   "cell_type": "code",
   "execution_count": 15,
   "id": "354a8a74-579b-4dc0-8a47-bb0ba9485027",
   "metadata": {},
   "outputs": [],
   "source": [
    "results = test_rf_model(data_subset[vars_to_try_full], test_year=2022,\n",
    "                        vars_lag=vars_to_try, num_lag=num_lags,\n",
    "                        rf_params=rf_params\n",
    "                       )"
   ]
  },
  {
   "cell_type": "code",
   "execution_count": 18,
   "id": "f61471e1-9013-4b3d-b011-27684ba3d15f",
   "metadata": {},
   "outputs": [
    {
     "data": {
      "text/plain": [
       "260.5871817571144"
      ]
     },
     "execution_count": 18,
     "metadata": {},
     "output_type": "execute_result"
    }
   ],
   "source": [
    "results['rmse_test']"
   ]
  },
  {
   "cell_type": "code",
   "execution_count": 16,
   "id": "316a5e96-5ad7-4bfa-90b2-c75866b07fba",
   "metadata": {},
   "outputs": [],
   "source": [
    "train, test = train_test_split(data_subset)"
   ]
  },
  {
   "cell_type": "code",
   "execution_count": 17,
   "id": "80124a4e-2144-4bae-9339-c35d26e26e4a",
   "metadata": {},
   "outputs": [
    {
     "data": {
      "image/png": "[encoded data removed]",
      "text/plain": [
       "<Figure size 1500x500 with 1 Axes>"
      ]
     },
     "metadata": {},
     "output_type": "display_data"
    }
   ],
   "source": [
    "train_test_plot(train, test, results['preds_test'])"
   ]
  },
  {
   "cell_type": "code",
   "execution_count": 28,
   "id": "492740da-8690-4339-a8c7-44518d3023d7",
   "metadata": {},
   "outputs": [
    {
     "name": "stdout",
     "output_type": "stream",
     "text": [
      "Minimum Dengue Cases: 40\n",
      "Maximum Dengue Cases: 1791\n",
      "RMSE: 272.0\n",
      "RMSE relative to minimum values in dengue cases: 7.0.\n",
      "RMSE relative to maximum values in dengue cases: 0.0.\n"
     ]
    }
   ],
   "source": [
    "# Evaluation of the model\n",
    "error = round(mean_squared_error(test['dengue_cases'], preds, squared=False), 0)\n",
    "print(f'Minimum Dengue Cases: {round(data[\"dengue_cases\"].min(),0)}')\n",
    "print(f'Maximum Dengue Cases: {round(data[\"dengue_cases\"].max(),0)}')\n",
    "\n",
    "print(f'RMSE: {error}')\n",
    "print(f'RMSE relative to minimum values in dengue cases: {round(error / data[\"dengue_cases\"].min(),0)}.')\n",
    "print(f'RMSE relative to maximum values in dengue cases: {round(error / data[\"dengue_cases\"].max(),0)}.')"
   ]
  },
  {
   "cell_type": "code",
   "execution_count": null,
   "id": "30fd43fe-415d-4792-a3e6-b4f62e971728",
   "metadata": {},
   "outputs": [],
   "source": []
  },
  {
   "cell_type": "code",
   "execution_count": null,
   "id": "7f209a66-0bc3-43de-bce8-c9da46e979b7",
   "metadata": {},
   "outputs": [],
   "source": []
  },
  {
   "cell_type": "code",
   "execution_count": null,
   "id": "b11e9be6-7df2-4a0e-bfe6-2f0bbab0148c",
   "metadata": {},
   "outputs": [],
   "source": []
  }
 ],
 "metadata": {
  "kernelspec": {
   "display_name": "Python [conda env:dsi-sg]",
   "language": "python",
   "name": "conda-env-dsi-sg-py"
  },
  "language_info": {
   "codemirror_mode": {
    "name": "ipython",
    "version": 3
   },
   "file_extension": ".py",
   "mimetype": "text/x-python",
   "name": "python",
   "nbconvert_exporter": "python",
   "pygments_lexer": "ipython3",
   "version": "3.9.16"
  }
 },
 "nbformat": 4,
 "nbformat_minor": 5
}
