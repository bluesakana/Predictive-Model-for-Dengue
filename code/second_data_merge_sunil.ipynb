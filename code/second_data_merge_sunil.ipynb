{
 "cells": [
  {
   "cell_type": "markdown",
   "id": "295bcc4a-5f5f-4af2-a98a-5a5a50a7e3d8",
   "metadata": {},
   "source": [
    "Import all relevant packages. "
   ]
  },
  {
   "cell_type": "code",
   "execution_count": null,
   "id": "a5deb662-2846-41b0-9038-e7fd051e02d2",
   "metadata": {},
   "outputs": [],
   "source": [
    "import pandas as pd"
   ]
  },
  {
   "cell_type": "markdown",
   "id": "201b0f17-a56e-45b2-8b41-2a92a7f9b981",
   "metadata": {},
   "source": [
    "Import all Datasets. "
   ]
  },
  {
   "cell_type": "code",
   "execution_count": null,
   "id": "94797e94-a871-49f0-b4e5-932d8823c981",
   "metadata": {},
   "outputs": [],
   "source": [
    "# import dengue cases and serology data\n",
    "serotype_df = pd.read_csv(\"../datasets/dengue_data_cleaned.csv\")"
   ]
  },
  {
   "cell_type": "code",
   "execution_count": null,
   "id": "ab9e21c0-f959-469c-b16f-228c8854c22e",
   "metadata": {},
   "outputs": [],
   "source": [
    "serotype_df.head(3)"
   ]
  },
  {
   "cell_type": "code",
   "execution_count": null,
   "id": "9b413051-fce0-4a67-a39d-dfdbd2990999",
   "metadata": {},
   "outputs": [],
   "source": [
    "# import climate data\n",
    "climate_df = pd.read_csv(\"../datasets/climate_wk.csv\")"
   ]
  },
  {
   "cell_type": "code",
   "execution_count": null,
   "id": "1cccadba-28b6-4d7d-8e47-cd8556216880",
   "metadata": {},
   "outputs": [],
   "source": [
    "climate_df.head(3)"
   ]
  },
  {
   "cell_type": "code",
   "execution_count": null,
   "id": "7bfe26fd-4657-4f2e-a253-e40695a7d59a",
   "metadata": {},
   "outputs": [],
   "source": [
    "# import google trends data \n",
    "google_trends = pd.read_csv(\"../datasets/dengue_google_trends_cleaned.csv\")"
   ]
  },
  {
   "cell_type": "code",
   "execution_count": null,
   "id": "7c1d764c-5a19-4f2f-8143-afb061b195c7",
   "metadata": {},
   "outputs": [],
   "source": [
    "google_trends.head(3)"
   ]
  },
  {
   "cell_type": "markdown",
   "id": "e3563756-10e7-4251-9eae-ccc31f9570b3",
   "metadata": {},
   "source": [
    "Convert the time columns to datetime format. "
   ]
  },
  {
   "cell_type": "code",
   "execution_count": null,
   "id": "263dd439-b032-4e99-acde-910d42a0d493",
   "metadata": {},
   "outputs": [],
   "source": [
    "# serotype_df\n",
    "serotype_df['time'] = pd.to_datetime(serotype_df['date'])\n",
    "\n",
    "# climate_df\n",
    "climate_df['time'] = pd.to_datetime(climate_df['DateTime'])\n",
    "\n",
    "# google_trends\n",
    "google_trends['time'] = pd.to_datetime(google_trends['Week'])"
   ]
  },
  {
   "cell_type": "markdown",
   "id": "c582cfff-6aa5-431e-ae8d-61c8fcfd2531",
   "metadata": {},
   "source": [
    "Sort all datasets by the time column in ascending order."
   ]
  },
  {
   "cell_type": "code",
   "execution_count": null,
   "id": "d5a688f8-7492-45c4-a33a-387d0ee414c5",
   "metadata": {},
   "outputs": [],
   "source": [
    "# serotype_df\n",
    "serotype_df = serotype_df.sort_values('time')\n",
    "\n",
    "# climate_df\n",
    "climate_df = climate_df.sort_values('time')\n",
    "\n",
    "# google_trends\n",
    "google_trends = google_trends.sort_values('time')"
   ]
  },
  {
   "cell_type": "markdown",
   "id": "aad5a275-0e57-40ed-a21d-2ed67e79adf0",
   "metadata": {},
   "source": [
    "Merge all datasets together. "
   ]
  },
  {
   "cell_type": "code",
   "execution_count": null,
   "id": "44754623-539d-43f2-a031-03e4677b20ca",
   "metadata": {},
   "outputs": [],
   "source": [
    "# Merge the datasets by the time column using an inner join\n",
    "merged_df2 = pd.merge(serotype_df, climate_df, on='time', how='inner')\n",
    "merged_df2 = pd.merge(merged_df1, google_trends, on='time', how='inner')"
   ]
  },
  {
   "cell_type": "code",
   "execution_count": null,
   "id": "6e7377cd-4ec7-4066-8feb-6fb730ad3267",
   "metadata": {
    "scrolled": true,
    "tags": []
   },
   "outputs": [],
   "source": [
    "merged_df2.info()"
   ]
  },
  {
   "cell_type": "markdown",
   "id": "488611c7-edb1-4ff9-a8e6-d6f957118ea3",
   "metadata": {},
   "source": [
    "Drop duplicated columns. "
   ]
  },
  {
   "cell_type": "code",
   "execution_count": null,
   "id": "b5d59451-ec6f-4e9f-8b72-d77218c20d81",
   "metadata": {},
   "outputs": [],
   "source": [
    "merged_df2 = merged_df1.drop(['date_x', 'date_y', 'DateTime', 'Week'], axis=1)"
   ]
  },
  {
   "cell_type": "markdown",
   "id": "b9284fb8-20ad-4b32-ad56-e2ace3e16758",
   "metadata": {},
   "source": [
    "Reset the index."
   ]
  },
  {
   "cell_type": "code",
   "execution_count": null,
   "id": "1a639bc9-431e-467b-8bd5-a7c436e1eccd",
   "metadata": {},
   "outputs": [],
   "source": [
    "merged_df2.set_index('time', inplace=True)"
   ]
  },
  {
   "cell_type": "markdown",
   "id": "4991a4ba-2844-4028-8771-70076f4bbd66",
   "metadata": {},
   "source": [
    "Export Merged Dataframe into CSV. "
   ]
  },
  {
   "cell_type": "code",
   "execution_count": null,
   "id": "49fb513e-d3e0-4f62-9193-23f11788a49c",
   "metadata": {},
   "outputs": [],
   "source": [
    "# save merged dataframe into csv format for EDA and modelling #1\n",
    "merged_df2.to_csv('../datasets/merged_df2.csv', index=True)"
   ]
  }
 ],
 "metadata": {
  "kernelspec": {
   "display_name": "dsi-sg",
   "language": "python",
   "name": "dsi-sg"
  },
  "language_info": {
   "codemirror_mode": {
    "name": "ipython",
    "version": 3
   },
   "file_extension": ".py",
   "mimetype": "text/x-python",
   "name": "python",
   "nbconvert_exporter": "python",
   "pygments_lexer": "ipython3",
   "version": "3.9.13"
  }
 },
 "nbformat": 4,
 "nbformat_minor": 5
}
