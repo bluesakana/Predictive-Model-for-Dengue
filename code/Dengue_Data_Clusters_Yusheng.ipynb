{
 "cells": [
  {
   "cell_type": "markdown",
   "id": "4e640ce9-0e6d-4c83-8266-59b24088d293",
   "metadata": {},
   "source": [
    "## Cleaning Regional Dengue Clusters Data"
   ]
  },
  {
   "cell_type": "code",
   "execution_count": 93,
   "id": "56ca7d3e-67e6-4a57-ae1b-8fe46c517a5c",
   "metadata": {},
   "outputs": [],
   "source": [
    "import pandas as pd\n",
    "import numpy as np\n",
    "import glob\n",
    "import geopandas as gpd\n",
    "import fiona\n",
    "\n",
    "fiona.drvsupport.supported_drivers['libkml'] = 'rw' # enable KML support which is disabled by default\n",
    "fiona.drvsupport.supported_drivers['LIBKML'] = 'rw' # enable KML support which is disabled by default"
   ]
  },
  {
   "cell_type": "markdown",
   "id": "7610c04d-7b0d-4642-b716-8e79144ed16d",
   "metadata": {},
   "source": [
    "## Read in Planning Area File\n",
    "\n",
    "Read in as GeoDataFrame"
   ]
  },
  {
   "cell_type": "code",
   "execution_count": 13,
   "id": "53599932-97b5-408d-8160-c63ce258879c",
   "metadata": {},
   "outputs": [],
   "source": [
    "planning_area = gpd.read_file('../datasets/dengue_cases_regional/planning-boundary-area.kml')"
   ]
  },
  {
   "cell_type": "code",
   "execution_count": 23,
   "id": "684464eb-95eb-4043-9275-b40929d11ff5",
   "metadata": {},
   "outputs": [
    {
     "data": {
      "text/plain": [
       "<Axes: >"
      ]
     },
     "execution_count": 23,
     "metadata": {},
     "output_type": "execute_result"
    },
    {
     "data": {
      "image/png": "[encoded data removed]",
      "text/plain": [
       "<Figure size 640x480 with 1 Axes>"
      ]
     },
     "metadata": {},
     "output_type": "display_data"
    }
   ],
   "source": [
    "planning_area[planning_area['PLN_AREA_N']=='JURONG WEST'].plot()"
   ]
  },
  {
   "cell_type": "markdown",
   "id": "ae1ade33-2ccb-4f9d-8633-81dd190f34ec",
   "metadata": {},
   "source": [
    "## Read in Dengue Clusters Files\n",
    "\n",
    "Read in each file and append into single file, then convert to GeoDataFrame"
   ]
  },
  {
   "cell_type": "code",
   "execution_count": 137,
   "id": "cdf8fc54-8cd2-4b46-90a0-8c4e388d2668",
   "metadata": {},
   "outputs": [],
   "source": [
    "dengue_cluster_filelist = glob.glob('../datasets/dengue_cases_regional/*-clusters.csv')\n",
    "\n",
    "df = []\n",
    "\n",
    "for file in dengue_cluster_filelist:\n",
    "\n",
    "    temp = pd.read_csv(file, names=['num_of_cases', \n",
    "                                  'street_address', \n",
    "                                  'latitude', \n",
    "                                  'longitude', \n",
    "                                  'cluster_num', \n",
    "                                  'recent_cases_in_cluster', \n",
    "                                  'total_cases_in_cluster',\n",
    "                                  'date',\n",
    "                                  'month'])\n",
    "    df.append(temp)\n",
    "    \n",
    "df = pd.concat(df, ignore_index=True)"
   ]
  },
  {
   "cell_type": "markdown",
   "id": "da7a9e6e-ae27-456d-936e-94e3d71c094b",
   "metadata": {},
   "source": [
    "### Data Dictionary\n",
    "\n",
    "| | |\n",
    "|----|----|\n",
    "|Number Of Cases|Number of reported dengue cases at this location |\n",
    "|Street Address|Street address where dengue cases are reported (down to the apartment block level) |\n",
    "|Latitude|Latitude of the street address |\n",
    "|Longitude|Longitude of the street address |\n",
    "|Cluster Number|Every dengue cluster is labelled with a serial number. However, this serial number cannot be used as an unique identifier because (1) the serial number is reused in other snapshots and (2) the serial number will change throughout the cluster's lifetime. |\n",
    "|Recent Cases In Cluster**|Number of dengue cases with onset in the last 2 weeks |\n",
    "|Total Cases In Cluster| Total number of dengue cases reported in this cluster |\n",
    "|Date|Date string in YYMMDD format |\n",
    "|Month Number|Index number of the month, where 1=January and 12=December |"
   ]
  },
  {
   "cell_type": "code",
   "execution_count": 138,
   "id": "d043d7a3-3861-48a3-aced-a23394655ebd",
   "metadata": {},
   "outputs": [
    {
     "name": "stdout",
     "output_type": "stream",
     "text": [
      "<class 'pandas.core.frame.DataFrame'>\n",
      "RangeIndex: 56976 entries, 0 to 56975\n",
      "Data columns (total 9 columns):\n",
      " #   Column                   Non-Null Count  Dtype  \n",
      "---  ------                   --------------  -----  \n",
      " 0   num_of_cases             56976 non-null  int64  \n",
      " 1   street_address           56976 non-null  object \n",
      " 2   latitude                 56976 non-null  float64\n",
      " 3   longitude                56976 non-null  float64\n",
      " 4   cluster_num              56976 non-null  int64  \n",
      " 5   recent_cases_in_cluster  56976 non-null  int64  \n",
      " 6   total_cases_in_cluster   56976 non-null  int64  \n",
      " 7   date                     56976 non-null  int64  \n",
      " 8   month                    56976 non-null  int64  \n",
      "dtypes: float64(2), int64(6), object(1)\n",
      "memory usage: 3.9+ MB\n"
     ]
    }
   ],
   "source": [
    "df.info()\n",
    "# Observation: no null values, need to convert date to datetime dtype"
   ]
  },
  {
   "cell_type": "code",
   "execution_count": 139,
   "id": "d92762b1-b58a-4f56-a1af-456d6ae7bc3b",
   "metadata": {},
   "outputs": [
    {
     "data": {
      "text/html": [
       "<div>\n",
       "<style scoped>\n",
       "    .dataframe tbody tr th:only-of-type {\n",
       "        vertical-align: middle;\n",
       "    }\n",
       "\n",
       "    .dataframe tbody tr th {\n",
       "        vertical-align: top;\n",
       "    }\n",
       "\n",
       "    .dataframe thead th {\n",
       "        text-align: right;\n",
       "    }\n",
       "</style>\n",
       "<table border=\"1\" class=\"dataframe\">\n",
       "  <thead>\n",
       "    <tr style=\"text-align: right;\">\n",
       "      <th></th>\n",
       "      <th>num_of_cases</th>\n",
       "      <th>latitude</th>\n",
       "      <th>longitude</th>\n",
       "      <th>cluster_num</th>\n",
       "      <th>recent_cases_in_cluster</th>\n",
       "      <th>total_cases_in_cluster</th>\n",
       "      <th>date</th>\n",
       "      <th>month</th>\n",
       "    </tr>\n",
       "  </thead>\n",
       "  <tbody>\n",
       "    <tr>\n",
       "      <th>count</th>\n",
       "      <td>56976.000000</td>\n",
       "      <td>56976.000000</td>\n",
       "      <td>56976.000000</td>\n",
       "      <td>56976.000000</td>\n",
       "      <td>56976.000000</td>\n",
       "      <td>56976.000000</td>\n",
       "      <td>56976.000000</td>\n",
       "      <td>56976.000000</td>\n",
       "    </tr>\n",
       "    <tr>\n",
       "      <th>mean</th>\n",
       "      <td>2.583667</td>\n",
       "      <td>1.354812</td>\n",
       "      <td>103.856974</td>\n",
       "      <td>35.301425</td>\n",
       "      <td>6.346462</td>\n",
       "      <td>37.508688</td>\n",
       "      <td>183041.102868</td>\n",
       "      <td>6.426390</td>\n",
       "    </tr>\n",
       "    <tr>\n",
       "      <th>std</th>\n",
       "      <td>3.931250</td>\n",
       "      <td>0.038571</td>\n",
       "      <td>0.064542</td>\n",
       "      <td>47.190155</td>\n",
       "      <td>7.331141</td>\n",
       "      <td>54.091489</td>\n",
       "      <td>18159.408902</td>\n",
       "      <td>3.248549</td>\n",
       "    </tr>\n",
       "    <tr>\n",
       "      <th>min</th>\n",
       "      <td>1.000000</td>\n",
       "      <td>1.264626</td>\n",
       "      <td>103.614371</td>\n",
       "      <td>1.000000</td>\n",
       "      <td>1.000000</td>\n",
       "      <td>2.000000</td>\n",
       "      <td>150703.000000</td>\n",
       "      <td>1.000000</td>\n",
       "    </tr>\n",
       "    <tr>\n",
       "      <th>25%</th>\n",
       "      <td>1.000000</td>\n",
       "      <td>1.323170</td>\n",
       "      <td>103.829118</td>\n",
       "      <td>6.000000</td>\n",
       "      <td>2.000000</td>\n",
       "      <td>4.000000</td>\n",
       "      <td>160613.000000</td>\n",
       "      <td>4.000000</td>\n",
       "    </tr>\n",
       "    <tr>\n",
       "      <th>50%</th>\n",
       "      <td>1.000000</td>\n",
       "      <td>1.350902</td>\n",
       "      <td>103.868549</td>\n",
       "      <td>18.000000</td>\n",
       "      <td>4.000000</td>\n",
       "      <td>14.000000</td>\n",
       "      <td>190808.000000</td>\n",
       "      <td>7.000000</td>\n",
       "    </tr>\n",
       "    <tr>\n",
       "      <th>75%</th>\n",
       "      <td>3.000000</td>\n",
       "      <td>1.375948</td>\n",
       "      <td>103.903538</td>\n",
       "      <td>47.000000</td>\n",
       "      <td>8.000000</td>\n",
       "      <td>48.000000</td>\n",
       "      <td>200306.000000</td>\n",
       "      <td>9.000000</td>\n",
       "    </tr>\n",
       "    <tr>\n",
       "      <th>max</th>\n",
       "      <td>104.000000</td>\n",
       "      <td>1.466968</td>\n",
       "      <td>103.973141</td>\n",
       "      <td>393.000000</td>\n",
       "      <td>92.000000</td>\n",
       "      <td>381.000000</td>\n",
       "      <td>201106.000000</td>\n",
       "      <td>12.000000</td>\n",
       "    </tr>\n",
       "  </tbody>\n",
       "</table>\n",
       "</div>"
      ],
      "text/plain": [
       "       num_of_cases      latitude     longitude   cluster_num  \\\n",
       "count  56976.000000  56976.000000  56976.000000  56976.000000   \n",
       "mean       2.583667      1.354812    103.856974     35.301425   \n",
       "std        3.931250      0.038571      0.064542     47.190155   \n",
       "min        1.000000      1.264626    103.614371      1.000000   \n",
       "25%        1.000000      1.323170    103.829118      6.000000   \n",
       "50%        1.000000      1.350902    103.868549     18.000000   \n",
       "75%        3.000000      1.375948    103.903538     47.000000   \n",
       "max      104.000000      1.466968    103.973141    393.000000   \n",
       "\n",
       "       recent_cases_in_cluster  total_cases_in_cluster           date  \\\n",
       "count             56976.000000            56976.000000   56976.000000   \n",
       "mean                  6.346462               37.508688  183041.102868   \n",
       "std                   7.331141               54.091489   18159.408902   \n",
       "min                   1.000000                2.000000  150703.000000   \n",
       "25%                   2.000000                4.000000  160613.000000   \n",
       "50%                   4.000000               14.000000  190808.000000   \n",
       "75%                   8.000000               48.000000  200306.000000   \n",
       "max                  92.000000              381.000000  201106.000000   \n",
       "\n",
       "              month  \n",
       "count  56976.000000  \n",
       "mean       6.426390  \n",
       "std        3.248549  \n",
       "min        1.000000  \n",
       "25%        4.000000  \n",
       "50%        7.000000  \n",
       "75%        9.000000  \n",
       "max       12.000000  "
      ]
     },
     "execution_count": 139,
     "metadata": {},
     "output_type": "execute_result"
    }
   ],
   "source": [
    "df.describe()"
   ]
  },
  {
   "cell_type": "code",
   "execution_count": 140,
   "id": "d0c45b07-2b27-44a7-9b6b-37939218d01d",
   "metadata": {},
   "outputs": [],
   "source": [
    "# convert date to datetime dtype\n",
    "df['date'] = pd.to_datetime(df['date'], format='%y%M%d')"
   ]
  },
  {
   "cell_type": "code",
   "execution_count": 141,
   "id": "87bd73d4-99b1-43c1-94b0-4f665634fdb8",
   "metadata": {},
   "outputs": [
    {
     "data": {
      "text/plain": [
       "1    11524\n",
       "4    11371\n",
       "2     9565\n",
       "6     7893\n",
       "0     6912\n",
       "5     6366\n",
       "3     3345\n",
       "Name: date, dtype: int64"
      ]
     },
     "execution_count": 141,
     "metadata": {},
     "output_type": "execute_result"
    }
   ],
   "source": [
    "# check which ones are sundays\n",
    "df['date'].dt.dayofweek.value_counts()"
   ]
  },
  {
   "cell_type": "code",
   "execution_count": 142,
   "id": "d2e1db61-7dfc-42cc-8c1d-d6f79179b413",
   "metadata": {},
   "outputs": [
    {
     "data": {
      "text/plain": [
       "array(['2015-01-11T00:08:00.000000000', '2015-01-25T00:08:00.000000000',\n",
       "       '2015-01-04T00:09:00.000000000', '2015-01-18T00:09:00.000000000',\n",
       "       '2015-01-25T00:09:00.000000000', '2016-01-10T00:02:00.000000000',\n",
       "       '2016-01-03T00:05:00.000000000', '2016-01-24T00:05:00.000000000',\n",
       "       '2016-01-10T00:08:00.000000000', '2016-01-03T00:10:00.000000000',\n",
       "       '2016-01-10T00:10:00.000000000', '2016-01-17T00:10:00.000000000',\n",
       "       '2016-01-24T00:10:00.000000000', '2016-01-31T00:10:00.000000000',\n",
       "       '2017-01-08T00:05:00.000000000', '2017-01-15T00:05:00.000000000',\n",
       "       '2017-01-22T00:05:00.000000000', '2017-01-29T00:05:00.000000000',\n",
       "       '2017-01-29T00:08:00.000000000', '2018-01-07T00:05:00.000000000',\n",
       "       '2018-01-14T00:05:00.000000000', '2018-01-21T00:05:00.000000000',\n",
       "       '2018-01-28T00:05:00.000000000', '2019-01-06T00:05:00.000000000',\n",
       "       '2019-01-13T00:05:00.000000000', '2019-01-27T00:05:00.000000000',\n",
       "       '2019-01-06T00:09:00.000000000', '2019-01-13T00:09:00.000000000',\n",
       "       '2019-01-20T00:09:00.000000000', '2019-01-27T00:09:00.000000000',\n",
       "       '2019-01-06T00:12:00.000000000', '2019-01-13T00:12:00.000000000',\n",
       "       '2019-01-20T00:12:00.000000000', '2019-01-27T00:12:00.000000000',\n",
       "       '2020-01-05T00:06:00.000000000'], dtype='datetime64[ns]')"
      ]
     },
     "execution_count": 142,
     "metadata": {},
     "output_type": "execute_result"
    }
   ],
   "source": [
    "df[df['date'].dt.dayofweek == 6]['date'].unique()"
   ]
  },
  {
   "cell_type": "markdown",
   "id": "52dc5ac4-81f0-4130-a8de-49b53967db16",
   "metadata": {},
   "source": [
    "Observation:\n",
    "\n",
    "- Data is not aligned to any day of the week. Not possible to align because gaps are irregular"
   ]
  },
  {
   "cell_type": "code",
   "execution_count": 143,
   "id": "ccc117a7-2263-453d-9792-ee4c383920e3",
   "metadata": {},
   "outputs": [
    {
     "data": {
      "text/html": [
       "<div>\n",
       "<style scoped>\n",
       "    .dataframe tbody tr th:only-of-type {\n",
       "        vertical-align: middle;\n",
       "    }\n",
       "\n",
       "    .dataframe tbody tr th {\n",
       "        vertical-align: top;\n",
       "    }\n",
       "\n",
       "    .dataframe thead th {\n",
       "        text-align: right;\n",
       "    }\n",
       "</style>\n",
       "<table border=\"1\" class=\"dataframe\">\n",
       "  <thead>\n",
       "    <tr style=\"text-align: right;\">\n",
       "      <th></th>\n",
       "      <th>num_of_cases</th>\n",
       "      <th>street_address</th>\n",
       "      <th>latitude</th>\n",
       "      <th>longitude</th>\n",
       "      <th>cluster_num</th>\n",
       "      <th>recent_cases_in_cluster</th>\n",
       "      <th>total_cases_in_cluster</th>\n",
       "      <th>date</th>\n",
       "      <th>month</th>\n",
       "      <th>geometry</th>\n",
       "    </tr>\n",
       "  </thead>\n",
       "  <tbody>\n",
       "    <tr>\n",
       "      <th>0</th>\n",
       "      <td>4</td>\n",
       "      <td>bishan street 22 (block 232)</td>\n",
       "      <td>1.358286</td>\n",
       "      <td>103.845226</td>\n",
       "      <td>1</td>\n",
       "      <td>24</td>\n",
       "      <td>83</td>\n",
       "      <td>2015-01-03 00:07:00</td>\n",
       "      <td>7</td>\n",
       "      <td>POINT (103.845 1.358)</td>\n",
       "    </tr>\n",
       "    <tr>\n",
       "      <th>1</th>\n",
       "      <td>7</td>\n",
       "      <td>bishan street 22 (block 233)</td>\n",
       "      <td>1.358639</td>\n",
       "      <td>103.845259</td>\n",
       "      <td>1</td>\n",
       "      <td>24</td>\n",
       "      <td>83</td>\n",
       "      <td>2015-01-03 00:07:00</td>\n",
       "      <td>7</td>\n",
       "      <td>POINT (103.845 1.359)</td>\n",
       "    </tr>\n",
       "    <tr>\n",
       "      <th>2</th>\n",
       "      <td>3</td>\n",
       "      <td>bishan street 22 (block 234)</td>\n",
       "      <td>1.358390</td>\n",
       "      <td>103.845955</td>\n",
       "      <td>1</td>\n",
       "      <td>24</td>\n",
       "      <td>83</td>\n",
       "      <td>2015-01-03 00:07:00</td>\n",
       "      <td>7</td>\n",
       "      <td>POINT (103.846 1.358)</td>\n",
       "    </tr>\n",
       "    <tr>\n",
       "      <th>3</th>\n",
       "      <td>1</td>\n",
       "      <td>bishan street 22 (block 235)</td>\n",
       "      <td>1.358719</td>\n",
       "      <td>103.846477</td>\n",
       "      <td>1</td>\n",
       "      <td>24</td>\n",
       "      <td>83</td>\n",
       "      <td>2015-01-03 00:07:00</td>\n",
       "      <td>7</td>\n",
       "      <td>POINT (103.846 1.359)</td>\n",
       "    </tr>\n",
       "    <tr>\n",
       "      <th>4</th>\n",
       "      <td>4</td>\n",
       "      <td>bishan street 22 (block 236)</td>\n",
       "      <td>1.359041</td>\n",
       "      <td>103.846849</td>\n",
       "      <td>1</td>\n",
       "      <td>24</td>\n",
       "      <td>83</td>\n",
       "      <td>2015-01-03 00:07:00</td>\n",
       "      <td>7</td>\n",
       "      <td>POINT (103.847 1.359)</td>\n",
       "    </tr>\n",
       "    <tr>\n",
       "      <th>...</th>\n",
       "      <td>...</td>\n",
       "      <td>...</td>\n",
       "      <td>...</td>\n",
       "      <td>...</td>\n",
       "      <td>...</td>\n",
       "      <td>...</td>\n",
       "      <td>...</td>\n",
       "      <td>...</td>\n",
       "      <td>...</td>\n",
       "      <td>...</td>\n",
       "    </tr>\n",
       "    <tr>\n",
       "      <th>56971</th>\n",
       "      <td>1</td>\n",
       "      <td>tampines street 71 (block 715)</td>\n",
       "      <td>1.359660</td>\n",
       "      <td>103.937074</td>\n",
       "      <td>131</td>\n",
       "      <td>2</td>\n",
       "      <td>2</td>\n",
       "      <td>2020-01-06 00:11:00</td>\n",
       "      <td>11</td>\n",
       "      <td>POINT (103.937 1.360)</td>\n",
       "    </tr>\n",
       "    <tr>\n",
       "      <th>56972</th>\n",
       "      <td>1</td>\n",
       "      <td>tampines street 71 (block 716)</td>\n",
       "      <td>1.359482</td>\n",
       "      <td>103.936586</td>\n",
       "      <td>131</td>\n",
       "      <td>2</td>\n",
       "      <td>2</td>\n",
       "      <td>2020-01-06 00:11:00</td>\n",
       "      <td>11</td>\n",
       "      <td>POINT (103.937 1.359)</td>\n",
       "    </tr>\n",
       "    <tr>\n",
       "      <th>56973</th>\n",
       "      <td>1</td>\n",
       "      <td>tampines street 82 (block 842b)</td>\n",
       "      <td>1.351145</td>\n",
       "      <td>103.936991</td>\n",
       "      <td>132</td>\n",
       "      <td>2</td>\n",
       "      <td>2</td>\n",
       "      <td>2020-01-06 00:11:00</td>\n",
       "      <td>11</td>\n",
       "      <td>POINT (103.937 1.351)</td>\n",
       "    </tr>\n",
       "    <tr>\n",
       "      <th>56974</th>\n",
       "      <td>1</td>\n",
       "      <td>tampines street 82 (block 842e)</td>\n",
       "      <td>1.351754</td>\n",
       "      <td>103.938303</td>\n",
       "      <td>132</td>\n",
       "      <td>2</td>\n",
       "      <td>2</td>\n",
       "      <td>2020-01-06 00:11:00</td>\n",
       "      <td>11</td>\n",
       "      <td>POINT (103.938 1.352)</td>\n",
       "    </tr>\n",
       "    <tr>\n",
       "      <th>56975</th>\n",
       "      <td>2</td>\n",
       "      <td>teo kim eng road</td>\n",
       "      <td>1.328131</td>\n",
       "      <td>103.908562</td>\n",
       "      <td>133</td>\n",
       "      <td>2</td>\n",
       "      <td>2</td>\n",
       "      <td>2020-01-06 00:11:00</td>\n",
       "      <td>11</td>\n",
       "      <td>POINT (103.909 1.328)</td>\n",
       "    </tr>\n",
       "  </tbody>\n",
       "</table>\n",
       "<p>56976 rows × 10 columns</p>\n",
       "</div>"
      ],
      "text/plain": [
       "       num_of_cases                   street_address  latitude   longitude  \\\n",
       "0                 4     bishan street 22 (block 232)  1.358286  103.845226   \n",
       "1                 7     bishan street 22 (block 233)  1.358639  103.845259   \n",
       "2                 3     bishan street 22 (block 234)  1.358390  103.845955   \n",
       "3                 1     bishan street 22 (block 235)  1.358719  103.846477   \n",
       "4                 4     bishan street 22 (block 236)  1.359041  103.846849   \n",
       "...             ...                              ...       ...         ...   \n",
       "56971             1   tampines street 71 (block 715)  1.359660  103.937074   \n",
       "56972             1   tampines street 71 (block 716)  1.359482  103.936586   \n",
       "56973             1  tampines street 82 (block 842b)  1.351145  103.936991   \n",
       "56974             1  tampines street 82 (block 842e)  1.351754  103.938303   \n",
       "56975             2                 teo kim eng road  1.328131  103.908562   \n",
       "\n",
       "       cluster_num  recent_cases_in_cluster  total_cases_in_cluster  \\\n",
       "0                1                       24                      83   \n",
       "1                1                       24                      83   \n",
       "2                1                       24                      83   \n",
       "3                1                       24                      83   \n",
       "4                1                       24                      83   \n",
       "...            ...                      ...                     ...   \n",
       "56971          131                        2                       2   \n",
       "56972          131                        2                       2   \n",
       "56973          132                        2                       2   \n",
       "56974          132                        2                       2   \n",
       "56975          133                        2                       2   \n",
       "\n",
       "                     date  month               geometry  \n",
       "0     2015-01-03 00:07:00      7  POINT (103.845 1.358)  \n",
       "1     2015-01-03 00:07:00      7  POINT (103.845 1.359)  \n",
       "2     2015-01-03 00:07:00      7  POINT (103.846 1.358)  \n",
       "3     2015-01-03 00:07:00      7  POINT (103.846 1.359)  \n",
       "4     2015-01-03 00:07:00      7  POINT (103.847 1.359)  \n",
       "...                   ...    ...                    ...  \n",
       "56971 2020-01-06 00:11:00     11  POINT (103.937 1.360)  \n",
       "56972 2020-01-06 00:11:00     11  POINT (103.937 1.359)  \n",
       "56973 2020-01-06 00:11:00     11  POINT (103.937 1.351)  \n",
       "56974 2020-01-06 00:11:00     11  POINT (103.938 1.352)  \n",
       "56975 2020-01-06 00:11:00     11  POINT (103.909 1.328)  \n",
       "\n",
       "[56976 rows x 10 columns]"
      ]
     },
     "execution_count": 143,
     "metadata": {},
     "output_type": "execute_result"
    }
   ],
   "source": [
    "# create geometry column\n",
    "df['geometry'] = gpd.points_from_xy(x=df['longitude'], y=df['latitude'])\n",
    "\n",
    "# convert to GeoDataFrame\n",
    "df = gpd.GeoDataFrame(df)\n",
    "df.set_crs(epsg=3857, inplace=True)"
   ]
  },
  {
   "cell_type": "code",
   "execution_count": 144,
   "id": "f5566291-1b11-4f57-a536-65fcb09eadaa",
   "metadata": {},
   "outputs": [
    {
     "name": "stderr",
     "output_type": "stream",
     "text": [
      "C:\\Users\\fishe\\AppData\\Local\\Temp\\ipykernel_11244\\1948961493.py:1: UserWarning: CRS mismatch between the CRS of left geometries and the CRS of right geometries.\n",
      "Use `to_crs()` to reproject one of the input geometries to match the CRS of the other.\n",
      "\n",
      "Left CRS: EPSG:3857\n",
      "Right CRS: EPSG:4326\n",
      "\n",
      "  jdf = gpd.sjoin(df, planning_area, how='left')\n"
     ]
    }
   ],
   "source": [
    "jdf = gpd.sjoin(df, planning_area, how='left')"
   ]
  },
  {
   "cell_type": "code",
   "execution_count": 145,
   "id": "5240bb3a-8173-4b15-ac8e-be2d2bf52cf1",
   "metadata": {},
   "outputs": [
    {
     "data": {
      "text/plain": [
       "Index(['num_of_cases', 'street_address', 'latitude', 'longitude',\n",
       "       'cluster_num', 'recent_cases_in_cluster', 'total_cases_in_cluster',\n",
       "       'date', 'month', 'geometry', 'index_right', 'Name', 'description',\n",
       "       'timestamp', 'begin', 'end', 'altitudeMode', 'tessellate', 'extrude',\n",
       "       'visibility', 'drawOrder', 'icon', 'PLN_AREA_N', 'PLN_AREA_C', 'CA_IND',\n",
       "       'REGION_N', 'REGION_C', 'INC_CRC', 'FMEL_UPD_D', 'snippet'],\n",
       "      dtype='object')"
      ]
     },
     "execution_count": 145,
     "metadata": {},
     "output_type": "execute_result"
    }
   ],
   "source": [
    "jdf.columns"
   ]
  },
  {
   "cell_type": "code",
   "execution_count": 146,
   "id": "a35a9c25-148f-46e7-b445-f360acd76bbd",
   "metadata": {},
   "outputs": [],
   "source": [
    "# extract only needed columns\n",
    "jdf = jdf[['num_of_cases', 'street_address', 'latitude', 'longitude',\n",
    "       'cluster_num', 'recent_cases_in_cluster', 'total_cases_in_cluster',\n",
    "       'date', 'PLN_AREA_N', 'PLN_AREA_C', 'REGION_N', 'REGION_C']]"
   ]
  },
  {
   "cell_type": "code",
   "execution_count": 151,
   "id": "cbe72ff5-27cf-4d50-b9fa-057bcc552384",
   "metadata": {},
   "outputs": [],
   "source": [
    "# convert datetime to just date\n",
    "jdf['date'] = jdf['date'].dt.date"
   ]
  },
  {
   "cell_type": "markdown",
   "id": "86c14d7a-d08a-47ab-a8ff-f513ddace234",
   "metadata": {},
   "source": [
    "## Aggregate Data by Date and Regions"
   ]
  },
  {
   "cell_type": "code",
   "execution_count": 152,
   "id": "acdbc89c-711d-41a3-8e2c-81f8db4ce21c",
   "metadata": {},
   "outputs": [],
   "source": [
    "dengue_clusters_by_region = jdf.groupby(['date', 'REGION_N']).sum(numeric_only=True)"
   ]
  },
  {
   "cell_type": "code",
   "execution_count": 153,
   "id": "e80589b1-59c2-4a2a-ba40-76bf3c5ceb9a",
   "metadata": {},
   "outputs": [],
   "source": [
    "dengue_clusters_by_region.drop(columns=['latitude', 'longitude', 'cluster_num'], inplace=True)"
   ]
  },
  {
   "cell_type": "code",
   "execution_count": 154,
   "id": "06745eeb-dc2a-45ad-baa1-49ac4c0c1b35",
   "metadata": {},
   "outputs": [],
   "source": [
    "dengue_clusters_by_region.to_csv('../datasets/dengue_clusters_by_region.csv', index=True)"
   ]
  },
  {
   "cell_type": "markdown",
   "id": "2947d6b6-d4f6-4d16-814b-e84848e43446",
   "metadata": {},
   "source": [
    "## Aggregate Data by Date and Planning Areas"
   ]
  },
  {
   "cell_type": "code",
   "execution_count": 155,
   "id": "440e499a-7c25-41e5-a05f-6e0d79d20afe",
   "metadata": {},
   "outputs": [],
   "source": [
    "dengue_clusters_by_planningarea = jdf.groupby(['date', 'PLN_AREA_N']).sum(numeric_only=True)"
   ]
  },
  {
   "cell_type": "code",
   "execution_count": 156,
   "id": "f70dc3f7-050d-45e2-92d3-7d42cd6c22d6",
   "metadata": {},
   "outputs": [],
   "source": [
    "dengue_clusters_by_planningarea.drop(columns=['latitude', 'longitude', 'cluster_num'], inplace=True)"
   ]
  },
  {
   "cell_type": "code",
   "execution_count": 157,
   "id": "ce7479b4-dca9-4b0e-acb1-ac2d2fb77b89",
   "metadata": {},
   "outputs": [],
   "source": [
    "dengue_clusters_by_planningarea.to_csv('../datasets/dengue_clusters_by_planningarea.csv', index=False)"
   ]
  },
  {
   "cell_type": "code",
   "execution_count": null,
   "id": "5546b9a7-cb0b-4716-ad05-2f6bdf7e1edb",
   "metadata": {},
   "outputs": [],
   "source": []
  }
 ],
 "metadata": {
  "kernelspec": {
   "display_name": "Python [conda env:dsi-sg]",
   "language": "python",
   "name": "conda-env-dsi-sg-py"
  },
  "language_info": {
   "codemirror_mode": {
    "name": "ipython",
    "version": 3
   },
   "file_extension": ".py",
   "mimetype": "text/x-python",
   "name": "python",
   "nbconvert_exporter": "python",
   "pygments_lexer": "ipython3",
   "version": "3.9.16"
  }
 },
 "nbformat": 4,
 "nbformat_minor": 5
}
