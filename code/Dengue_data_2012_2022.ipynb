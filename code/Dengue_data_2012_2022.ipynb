{
 "cells": [
  {
   "cell_type": "code",
   "execution_count": 1,
   "id": "b050fa4e-ebfb-4476-a4af-6905819496f4",
   "metadata": {},
   "outputs": [],
   "source": [
    "import pandas as pd\n",
    "import numpy as np\n",
    "import warnings\n",
    "warnings.filterwarnings('ignore')\n",
    "\n",
    "pd.options.display.max_columns = None"
   ]
  },
  {
   "cell_type": "markdown",
   "id": "e76c9166-6d60-4773-9be8-522d316ff5c6",
   "metadata": {},
   "source": [
    "### Data Import"
   ]
  },
  {
   "cell_type": "code",
   "execution_count": 2,
   "id": "be9da3b7-5f4f-4600-9986-6d8579b7ee82",
   "metadata": {},
   "outputs": [],
   "source": [
    "# Dengue cases in 2023\n",
    "dengue_2023 = pd.read_csv('../datasets/dengue_cases/2023 weekly-infectious-bulletin_cases.csv', header=1)\n",
    "# Dengue cases in 2022\n",
    "dengue_2022 = pd.read_csv('../datasets/dengue_cases/2022 weekly-infectious-bulletin_cases.csv', header=1)\n",
    "# Dengue cases in 2021\n",
    "dengue_2021 = pd.read_csv('../datasets/dengue_cases/2021 weekly-infectious-bulletin_cases.csv')\n",
    "# Dengue cases in 2020\n",
    "dengue_2020 = pd.read_csv('../datasets/dengue_cases/2020 weekly-infectious-bulletin_cases.csv', header=1)\n",
    "# Dengue cases in 2019\n",
    "dengue_2019 = pd.read_csv('../datasets/dengue_cases/2019 weekly-infectious-bulletin_cases.csv', header=1)\n",
    "# Dengue cases in 2018\n",
    "dengue_2018 = pd.read_csv('../datasets/dengue_cases/2018 weekly-infectious-bulletin_cases.csv', header=1)\n",
    "# Dengue cases in 2017\n",
    "dengue_2017 = pd.read_csv('../datasets/dengue_cases/2017 weekly-infectious-bulletin_cases.csv', header=1)\n",
    "# Dengue cases in 2016\n",
    "dengue_2016 = pd.read_csv('../datasets/dengue_cases/2016 weekly-infectious-bulletin_cases.csv', header=1)\n",
    "# Dengue cases in 2015\n",
    "dengue_2015 = pd.read_csv('../datasets/dengue_cases/2015 weekly-infectious-bulletin_cases.csv', header=1)\n",
    "# Dengue cases in 2014\n",
    "dengue_2014 = pd.read_csv('../datasets/dengue_cases/2014 weekly-infectious-bulletin_cases.csv', header=1)\n",
    "# Dengue cases in 2013\n",
    "dengue_2013 = pd.read_csv('../datasets/dengue_cases/2013 weekly-infectious-bulletin_cases.csv', header=1)\n",
    "# Dengue cases in 2012\n",
    "dengue_2012 = pd.read_csv('../datasets/dengue_cases/2012 weekly-infectious-bulletin_cases.csv', header=1)"
   ]
  },
  {
   "cell_type": "markdown",
   "id": "fa2401ee-4863-431b-9307-2a7946f2246e",
   "metadata": {},
   "source": [
    "### Functions for cleaning"
   ]
  },
  {
   "cell_type": "code",
   "execution_count": 3,
   "id": "9dc3b752-0180-4905-aea5-c6d7e8113713",
   "metadata": {},
   "outputs": [],
   "source": [
    "# Function used to clean dengue data for infections before 2022\n",
    "def clean_dengue_data(dengue):\n",
    "\n",
    "    # Rename the columns we're using\n",
    "    dengue.rename(columns={'Start' : 'date', \n",
    "                        'Dengue' : 'dengue_cases',\n",
    "                        'Dengue Fever' : 'dengue_cases'}, \n",
    "                       inplace=True)\n",
    "    \n",
    "    # Drop the columns we're not using\n",
    "    dengue = dengue[['date', 'dengue_cases']]\n",
    "    \n",
    "    # Convert the date to dateTime format\n",
    "    dengue['date'] = pd.to_datetime(dengue['date'], dayfirst=True)\n",
    "    \n",
    "    return dengue"
   ]
  },
  {
   "cell_type": "code",
   "execution_count": 4,
   "id": "8d22971d-ca20-4187-b329-8cda91676e7e",
   "metadata": {},
   "outputs": [],
   "source": [
    "# Function used to clean dengue data for infections 2022 onwards as MoH changed the CSV format\n",
    "def clean_dengue_data_2(dengue):\n",
    "\n",
    "    # Rename the columns we're using\n",
    "    dengue.rename(columns={'Unnamed: 1' : 'old_date', \n",
    "                        'Dengue' : 'dengue_cases',\n",
    "                        'Dengue Fever' : 'dengue_cases'}, \n",
    "                       inplace=True)\n",
    "    \n",
    "    # Drop the columns we're not using\n",
    "    dengue = dengue[['old_date', 'dengue_cases']]\n",
    "    \n",
    "    # Slice the weekly rangte from dd/mm/yyyy - dd/mm/yyyy format to just the \n",
    "    # first date of the range (dd/mm/yyyy)\n",
    "    dengue['date'] = dengue['old_date'].str.split(pat='-')\n",
    "    for week in range(len(dengue['date'])):\n",
    "        dengue['date'][week] = dengue['date'][week][0]\n",
    "    \n",
    "    # Convert the date to dateTime format\n",
    "    dengue['date'] = pd.to_datetime(dengue['date'], dayfirst=True)\n",
    "    \n",
    "    # Drop the old_date\n",
    "    dengue = dengue[['date', 'dengue_cases']]\n",
    "    \n",
    "    # Drop the weeks that do not have data (April onwards)\n",
    "    dengue.dropna(inplace=True)\n",
    "    \n",
    "    # Change dengue_cases to int format\n",
    "    dengue['dengue_cases'] = dengue['dengue_cases'].astype(int)\n",
    "    \n",
    "    return dengue"
   ]
  },
  {
   "cell_type": "markdown",
   "id": "5fb5298b-8914-4b22-a30d-a70142dac200",
   "metadata": {},
   "source": [
    "### Clean Dengue Cases Data"
   ]
  },
  {
   "cell_type": "code",
   "execution_count": 9,
   "id": "a1f14dd4-ae2b-4420-b3d7-2112c5e71ea5",
   "metadata": {},
   "outputs": [],
   "source": [
    "# Clean the yearly dengue datasets\n",
    "dengue_2023 = clean_dengue_data(dengue_2023)\n",
    "dengue_2022 = clean_dengue_data_2(dengue_2022)\n",
    "dengue_2021 = clean_dengue_data(dengue_2021)\n",
    "dengue_2020 = clean_dengue_data(dengue_2020)\n",
    "dengue_2019 = clean_dengue_data(dengue_2019)\n",
    "dengue_2018 = clean_dengue_data(dengue_2018)\n",
    "dengue_2017 = clean_dengue_data(dengue_2017)\n",
    "dengue_2016 = clean_dengue_data(dengue_2016)\n",
    "dengue_2015 = clean_dengue_data(dengue_2015)\n",
    "dengue_2014 = clean_dengue_data(dengue_2014)\n",
    "dengue_2013 = clean_dengue_data(dengue_2013)\n",
    "dengue_2012 = clean_dengue_data(dengue_2012)\n"
   ]
  },
  {
   "cell_type": "code",
   "execution_count": 10,
   "id": "8c5d50bc-db3c-40f1-be5d-e50c8ee6f52e",
   "metadata": {},
   "outputs": [
    {
     "data": {
      "text/html": [
       "<div>\n",
       "<style scoped>\n",
       "    .dataframe tbody tr th:only-of-type {\n",
       "        vertical-align: middle;\n",
       "    }\n",
       "\n",
       "    .dataframe tbody tr th {\n",
       "        vertical-align: top;\n",
       "    }\n",
       "\n",
       "    .dataframe thead th {\n",
       "        text-align: right;\n",
       "    }\n",
       "</style>\n",
       "<table border=\"1\" class=\"dataframe\">\n",
       "  <thead>\n",
       "    <tr style=\"text-align: right;\">\n",
       "      <th></th>\n",
       "      <th>date</th>\n",
       "      <th>dengue_cases</th>\n",
       "    </tr>\n",
       "  </thead>\n",
       "  <tbody>\n",
       "    <tr>\n",
       "      <th>0</th>\n",
       "      <td>2023-01-01</td>\n",
       "      <td>279</td>\n",
       "    </tr>\n",
       "    <tr>\n",
       "      <th>1</th>\n",
       "      <td>2023-01-08</td>\n",
       "      <td>278</td>\n",
       "    </tr>\n",
       "    <tr>\n",
       "      <th>2</th>\n",
       "      <td>2023-01-15</td>\n",
       "      <td>273</td>\n",
       "    </tr>\n",
       "    <tr>\n",
       "      <th>3</th>\n",
       "      <td>2023-01-22</td>\n",
       "      <td>186</td>\n",
       "    </tr>\n",
       "    <tr>\n",
       "      <th>4</th>\n",
       "      <td>2023-01-29</td>\n",
       "      <td>223</td>\n",
       "    </tr>\n",
       "  </tbody>\n",
       "</table>\n",
       "</div>"
      ],
      "text/plain": [
       "        date  dengue_cases\n",
       "0 2023-01-01           279\n",
       "1 2023-01-08           278\n",
       "2 2023-01-15           273\n",
       "3 2023-01-22           186\n",
       "4 2023-01-29           223"
      ]
     },
     "execution_count": 10,
     "metadata": {},
     "output_type": "execute_result"
    }
   ],
   "source": [
    "dengue_2023.head()"
   ]
  },
  {
   "cell_type": "markdown",
   "id": "04be6b39-08e6-465e-9997-39ffe1fb02e2",
   "metadata": {},
   "source": [
    "### Concatenate the yearly data into a single dataframe"
   ]
  },
  {
   "cell_type": "code",
   "execution_count": 11,
   "id": "5536fbf1-67ca-4a3a-aa4f-184400201f97",
   "metadata": {},
   "outputs": [],
   "source": [
    "# Use concat to combine all the dengue dataframes together\n",
    "dengue = pd.concat([dengue_2023, dengue_2022, dengue_2021, dengue_2020, \n",
    "                   dengue_2019, dengue_2018,dengue_2017,dengue_2016,dengue_2015,dengue_2014,dengue_2013,dengue_2012], ignore_index=True)"
   ]
  },
  {
   "cell_type": "code",
   "execution_count": 12,
   "id": "ee485018-ec79-44f3-b436-67558c29f0a8",
   "metadata": {},
   "outputs": [
    {
     "data": {
      "text/plain": [
       "(590, 2)"
      ]
     },
     "execution_count": 12,
     "metadata": {},
     "output_type": "execute_result"
    }
   ],
   "source": [
    "# Check that the concatination is successful\n",
    "dengue.shape"
   ]
  },
  {
   "cell_type": "code",
   "execution_count": 13,
   "id": "481610cb-dc38-4529-a093-84f885a82f36",
   "metadata": {},
   "outputs": [],
   "source": [
    "dengue.sort_values(by=['date'], ascending=True,inplace=True)"
   ]
  },
  {
   "cell_type": "code",
   "execution_count": 14,
   "id": "f942dae7-caa1-4ec1-ab2f-4e156a807ea2",
   "metadata": {},
   "outputs": [],
   "source": [
    "# Resetting the index\n",
    "dengue.set_index('date', inplace=True)"
   ]
  },
  {
   "cell_type": "markdown",
   "id": "85d5ee93-7774-4d58-9cde-bb204daa4fd4",
   "metadata": {},
   "source": [
    "### Export the dengue data"
   ]
  },
  {
   "cell_type": "code",
   "execution_count": 15,
   "id": "b28b7a02-553c-4fc0-be09-667ff3d398ac",
   "metadata": {},
   "outputs": [],
   "source": [
    "# Export the dengue data into a csv file\n",
    "dengue.to_csv('../datasets/dengue_merged_2012_2023.csv', index=True)"
   ]
  },
  {
   "cell_type": "code",
   "execution_count": 16,
   "id": "0c475b71-78ba-4707-a9d4-6f1a476172a9",
   "metadata": {},
   "outputs": [
    {
     "data": {
      "text/html": [
       "<div>\n",
       "<style scoped>\n",
       "    .dataframe tbody tr th:only-of-type {\n",
       "        vertical-align: middle;\n",
       "    }\n",
       "\n",
       "    .dataframe tbody tr th {\n",
       "        vertical-align: top;\n",
       "    }\n",
       "\n",
       "    .dataframe thead th {\n",
       "        text-align: right;\n",
       "    }\n",
       "</style>\n",
       "<table border=\"1\" class=\"dataframe\">\n",
       "  <thead>\n",
       "    <tr style=\"text-align: right;\">\n",
       "      <th></th>\n",
       "      <th>dengue_cases</th>\n",
       "    </tr>\n",
       "    <tr>\n",
       "      <th>date</th>\n",
       "      <th></th>\n",
       "    </tr>\n",
       "  </thead>\n",
       "  <tbody>\n",
       "    <tr>\n",
       "      <th>2012-01-01</th>\n",
       "      <td>74.0</td>\n",
       "    </tr>\n",
       "    <tr>\n",
       "      <th>2012-01-08</th>\n",
       "      <td>64.0</td>\n",
       "    </tr>\n",
       "    <tr>\n",
       "      <th>2012-01-15</th>\n",
       "      <td>60.0</td>\n",
       "    </tr>\n",
       "    <tr>\n",
       "      <th>2012-01-22</th>\n",
       "      <td>50.0</td>\n",
       "    </tr>\n",
       "    <tr>\n",
       "      <th>2012-01-29</th>\n",
       "      <td>84.0</td>\n",
       "    </tr>\n",
       "  </tbody>\n",
       "</table>\n",
       "</div>"
      ],
      "text/plain": [
       "            dengue_cases\n",
       "date                    \n",
       "2012-01-01          74.0\n",
       "2012-01-08          64.0\n",
       "2012-01-15          60.0\n",
       "2012-01-22          50.0\n",
       "2012-01-29          84.0"
      ]
     },
     "execution_count": 16,
     "metadata": {},
     "output_type": "execute_result"
    }
   ],
   "source": [
    "dengue.head()"
   ]
  },
  {
   "cell_type": "code",
   "execution_count": null,
   "id": "6e1cf920-485d-48ad-89af-a7bafddaed8d",
   "metadata": {},
   "outputs": [],
   "source": []
  }
 ],
 "metadata": {
  "kernelspec": {
   "display_name": "dsi-sg",
   "language": "python",
   "name": "dsi-sg"
  },
  "language_info": {
   "codemirror_mode": {
    "name": "ipython",
    "version": 3
   },
   "file_extension": ".py",
   "mimetype": "text/x-python",
   "name": "python",
   "nbconvert_exporter": "python",
   "pygments_lexer": "ipython3",
   "version": "3.9.16"
  }
 },
 "nbformat": 4,
 "nbformat_minor": 5
}
