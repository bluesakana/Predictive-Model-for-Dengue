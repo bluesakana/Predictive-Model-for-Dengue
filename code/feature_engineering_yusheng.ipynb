{
 "cells": [
  {
   "cell_type": "markdown",
   "id": "f03de4ed-32b5-4080-9dfd-aa3e6b378802",
   "metadata": {},
   "source": [
    "## Feature Engineering\n",
    "\n",
    "This notebook focuses on processing the data and doing feature engineering.\n",
    "\n",
    "At the end, this notebook will output the full dataset with all features included."
   ]
  },
  {
   "cell_type": "code",
   "execution_count": 101,
   "id": "41a8ef75-e917-4a7c-b961-719543649527",
   "metadata": {},
   "outputs": [],
   "source": [
    "# Import the necessary libraries\n",
    "import numpy as np\n",
    "import pandas as pd\n",
    "import matplotlib.pyplot as plt\n",
    "import pickle\n",
    "import seaborn as sns\n",
    "\n",
    "from datetime import datetime\n",
    "\n",
    "#import warnings\n",
    "#warnings.simplefilter(action=\"ignore\")\n",
    "\n",
    "# Set all columns and rows to be displayed\n",
    "pd.set_option('display.max_columns', None)\n",
    "pd.set_option('display.max_rows', None)"
   ]
  },
  {
   "cell_type": "markdown",
   "id": "c85b6be8-e5df-4c66-9722-736dee5c3526",
   "metadata": {
    "tags": []
   },
   "source": [
    "### Import Data"
   ]
  },
  {
   "cell_type": "code",
   "execution_count": 15,
   "id": "86deb75f-eb58-4095-99fc-4dd6979bf5c9",
   "metadata": {},
   "outputs": [],
   "source": [
    "# Import the dataset\n",
    "data = pd.read_csv(\"../datasets/merged_df2.csv\")"
   ]
  },
  {
   "cell_type": "code",
   "execution_count": 16,
   "id": "bce432fd-d4a4-463a-afc3-19add512c684",
   "metadata": {},
   "outputs": [
    {
     "data": {
      "text/html": [
       "<div>\n",
       "<style scoped>\n",
       "    .dataframe tbody tr th:only-of-type {\n",
       "        vertical-align: middle;\n",
       "    }\n",
       "\n",
       "    .dataframe tbody tr th {\n",
       "        vertical-align: top;\n",
       "    }\n",
       "\n",
       "    .dataframe thead th {\n",
       "        text-align: right;\n",
       "    }\n",
       "</style>\n",
       "<table border=\"1\" class=\"dataframe\">\n",
       "  <thead>\n",
       "    <tr style=\"text-align: right;\">\n",
       "      <th></th>\n",
       "      <th>time</th>\n",
       "      <th>dengue_cases</th>\n",
       "      <th>denv_1</th>\n",
       "      <th>denv_2</th>\n",
       "      <th>denv_3</th>\n",
       "      <th>denv_4</th>\n",
       "      <th>Mean Temperature (°C)</th>\n",
       "      <th>Mean Wind Speed (km/h)</th>\n",
       "      <th>Daily Rainfall Total (mm)</th>\n",
       "      <th>Maximum Temperature (°C)</th>\n",
       "      <th>Max Wind Speed (km/h)</th>\n",
       "      <th>Minimum Temperature (°C)</th>\n",
       "      <th>google_trends</th>\n",
       "    </tr>\n",
       "  </thead>\n",
       "  <tbody>\n",
       "    <tr>\n",
       "      <th>0</th>\n",
       "      <td>2018-04-08</td>\n",
       "      <td>38</td>\n",
       "      <td>0.000</td>\n",
       "      <td>0.505</td>\n",
       "      <td>0.484</td>\n",
       "      <td>0.011</td>\n",
       "      <td>28.528571</td>\n",
       "      <td>10.714286</td>\n",
       "      <td>0.742857</td>\n",
       "      <td>33.8</td>\n",
       "      <td>36.7</td>\n",
       "      <td>25.5</td>\n",
       "      <td>20</td>\n",
       "    </tr>\n",
       "    <tr>\n",
       "      <th>1</th>\n",
       "      <td>2018-04-15</td>\n",
       "      <td>56</td>\n",
       "      <td>0.000</td>\n",
       "      <td>0.505</td>\n",
       "      <td>0.484</td>\n",
       "      <td>0.011</td>\n",
       "      <td>28.914286</td>\n",
       "      <td>9.828571</td>\n",
       "      <td>2.057143</td>\n",
       "      <td>34.4</td>\n",
       "      <td>38.2</td>\n",
       "      <td>24.6</td>\n",
       "      <td>18</td>\n",
       "    </tr>\n",
       "    <tr>\n",
       "      <th>2</th>\n",
       "      <td>2018-04-22</td>\n",
       "      <td>55</td>\n",
       "      <td>0.000</td>\n",
       "      <td>0.505</td>\n",
       "      <td>0.484</td>\n",
       "      <td>0.011</td>\n",
       "      <td>28.142857</td>\n",
       "      <td>7.700000</td>\n",
       "      <td>0.371429</td>\n",
       "      <td>34.3</td>\n",
       "      <td>37.1</td>\n",
       "      <td>25.5</td>\n",
       "      <td>21</td>\n",
       "    </tr>\n",
       "    <tr>\n",
       "      <th>3</th>\n",
       "      <td>2018-04-29</td>\n",
       "      <td>74</td>\n",
       "      <td>0.000</td>\n",
       "      <td>0.505</td>\n",
       "      <td>0.484</td>\n",
       "      <td>0.011</td>\n",
       "      <td>28.414286</td>\n",
       "      <td>6.842857</td>\n",
       "      <td>4.800000</td>\n",
       "      <td>35.0</td>\n",
       "      <td>43.6</td>\n",
       "      <td>22.6</td>\n",
       "      <td>23</td>\n",
       "    </tr>\n",
       "    <tr>\n",
       "      <th>4</th>\n",
       "      <td>2018-05-06</td>\n",
       "      <td>62</td>\n",
       "      <td>0.029</td>\n",
       "      <td>0.549</td>\n",
       "      <td>0.382</td>\n",
       "      <td>0.039</td>\n",
       "      <td>28.785714</td>\n",
       "      <td>8.328571</td>\n",
       "      <td>3.742857</td>\n",
       "      <td>34.2</td>\n",
       "      <td>44.6</td>\n",
       "      <td>23.6</td>\n",
       "      <td>39</td>\n",
       "    </tr>\n",
       "  </tbody>\n",
       "</table>\n",
       "</div>"
      ],
      "text/plain": [
       "         time  dengue_cases  denv_1  denv_2  denv_3  denv_4  \\\n",
       "0  2018-04-08            38   0.000   0.505   0.484   0.011   \n",
       "1  2018-04-15            56   0.000   0.505   0.484   0.011   \n",
       "2  2018-04-22            55   0.000   0.505   0.484   0.011   \n",
       "3  2018-04-29            74   0.000   0.505   0.484   0.011   \n",
       "4  2018-05-06            62   0.029   0.549   0.382   0.039   \n",
       "\n",
       "   Mean Temperature (°C)  Mean Wind Speed (km/h)  Daily Rainfall Total (mm)  \\\n",
       "0              28.528571               10.714286                   0.742857   \n",
       "1              28.914286                9.828571                   2.057143   \n",
       "2              28.142857                7.700000                   0.371429   \n",
       "3              28.414286                6.842857                   4.800000   \n",
       "4              28.785714                8.328571                   3.742857   \n",
       "\n",
       "   Maximum Temperature (°C)  Max Wind Speed (km/h)  Minimum Temperature (°C)  \\\n",
       "0                      33.8                   36.7                      25.5   \n",
       "1                      34.4                   38.2                      24.6   \n",
       "2                      34.3                   37.1                      25.5   \n",
       "3                      35.0                   43.6                      22.6   \n",
       "4                      34.2                   44.6                      23.6   \n",
       "\n",
       "   google_trends  \n",
       "0             20  \n",
       "1             18  \n",
       "2             21  \n",
       "3             23  \n",
       "4             39  "
      ]
     },
     "execution_count": 16,
     "metadata": {},
     "output_type": "execute_result"
    }
   ],
   "source": [
    "# Check the data\n",
    "data.head()"
   ]
  },
  {
   "cell_type": "markdown",
   "id": "fdc9b5e7-2c00-45b3-8224-7d6afb671a5a",
   "metadata": {},
   "source": [
    "No catagorical values observed. However, due to the different types of numerical values being used, scaling will be required."
   ]
  },
  {
   "cell_type": "code",
   "execution_count": 17,
   "id": "54e7842b-5c4a-4cea-91f3-5430c3d28ffa",
   "metadata": {},
   "outputs": [
    {
     "data": {
      "text/plain": [
       "(257, 13)"
      ]
     },
     "execution_count": 17,
     "metadata": {},
     "output_type": "execute_result"
    }
   ],
   "source": [
    "# Check the shape of the data\n",
    "data.shape"
   ]
  },
  {
   "cell_type": "code",
   "execution_count": 18,
   "id": "82cb59a6-c901-47e0-be0d-10d32b93935e",
   "metadata": {},
   "outputs": [
    {
     "name": "stdout",
     "output_type": "stream",
     "text": [
      "<class 'pandas.core.frame.DataFrame'>\n",
      "RangeIndex: 257 entries, 0 to 256\n",
      "Data columns (total 13 columns):\n",
      " #   Column                     Non-Null Count  Dtype  \n",
      "---  ------                     --------------  -----  \n",
      " 0   time                       257 non-null    object \n",
      " 1   dengue_cases               257 non-null    int64  \n",
      " 2   denv_1                     257 non-null    float64\n",
      " 3   denv_2                     257 non-null    float64\n",
      " 4   denv_3                     257 non-null    float64\n",
      " 5   denv_4                     257 non-null    float64\n",
      " 6   Mean Temperature (°C)      257 non-null    float64\n",
      " 7   Mean Wind Speed (km/h)     257 non-null    float64\n",
      " 8   Daily Rainfall Total (mm)  257 non-null    float64\n",
      " 9   Maximum Temperature (°C)   257 non-null    float64\n",
      " 10  Max Wind Speed (km/h)      257 non-null    float64\n",
      " 11  Minimum Temperature (°C)   257 non-null    float64\n",
      " 12  google_trends              257 non-null    int64  \n",
      "dtypes: float64(10), int64(2), object(1)\n",
      "memory usage: 26.2+ KB\n"
     ]
    }
   ],
   "source": [
    "# Look at the datatypes\n",
    "data.info()"
   ]
  },
  {
   "cell_type": "markdown",
   "id": "9d4941a3-b030-4c86-95cd-2cf175f0d66c",
   "metadata": {
    "tags": []
   },
   "source": [
    "### Date Processing"
   ]
  },
  {
   "cell_type": "markdown",
   "id": "fb5a6c5c-6abc-4138-ab87-148712201c59",
   "metadata": {},
   "source": [
    "The date feature is currently an object time. We will be converting it into a dateTime format."
   ]
  },
  {
   "cell_type": "code",
   "execution_count": 19,
   "id": "95d16f44-67d3-422f-9003-01836b561785",
   "metadata": {},
   "outputs": [],
   "source": [
    "# Convert the date column into dateTime format\n",
    "data['time'] = pd.to_datetime(data['time'])"
   ]
  },
  {
   "cell_type": "code",
   "execution_count": 20,
   "id": "a77354e6-d1f2-461f-a855-3339b67f608c",
   "metadata": {},
   "outputs": [],
   "source": [
    "# Set the time as the index\n",
    "data = data.set_index('time')"
   ]
  },
  {
   "cell_type": "code",
   "execution_count": 21,
   "id": "4a151037-58a2-471c-bb29-3aa7a84ce24e",
   "metadata": {},
   "outputs": [
    {
     "data": {
      "text/html": [
       "<div>\n",
       "<style scoped>\n",
       "    .dataframe tbody tr th:only-of-type {\n",
       "        vertical-align: middle;\n",
       "    }\n",
       "\n",
       "    .dataframe tbody tr th {\n",
       "        vertical-align: top;\n",
       "    }\n",
       "\n",
       "    .dataframe thead th {\n",
       "        text-align: right;\n",
       "    }\n",
       "</style>\n",
       "<table border=\"1\" class=\"dataframe\">\n",
       "  <thead>\n",
       "    <tr style=\"text-align: right;\">\n",
       "      <th></th>\n",
       "      <th>dengue_cases</th>\n",
       "      <th>denv_1</th>\n",
       "      <th>denv_2</th>\n",
       "      <th>denv_3</th>\n",
       "      <th>denv_4</th>\n",
       "      <th>Mean Temperature (°C)</th>\n",
       "      <th>Mean Wind Speed (km/h)</th>\n",
       "      <th>Daily Rainfall Total (mm)</th>\n",
       "      <th>Maximum Temperature (°C)</th>\n",
       "      <th>Max Wind Speed (km/h)</th>\n",
       "      <th>Minimum Temperature (°C)</th>\n",
       "      <th>google_trends</th>\n",
       "    </tr>\n",
       "    <tr>\n",
       "      <th>time</th>\n",
       "      <th></th>\n",
       "      <th></th>\n",
       "      <th></th>\n",
       "      <th></th>\n",
       "      <th></th>\n",
       "      <th></th>\n",
       "      <th></th>\n",
       "      <th></th>\n",
       "      <th></th>\n",
       "      <th></th>\n",
       "      <th></th>\n",
       "      <th></th>\n",
       "    </tr>\n",
       "  </thead>\n",
       "  <tbody>\n",
       "    <tr>\n",
       "      <th>2018-04-08</th>\n",
       "      <td>38</td>\n",
       "      <td>0.000</td>\n",
       "      <td>0.505</td>\n",
       "      <td>0.484</td>\n",
       "      <td>0.011</td>\n",
       "      <td>28.528571</td>\n",
       "      <td>10.714286</td>\n",
       "      <td>0.742857</td>\n",
       "      <td>33.8</td>\n",
       "      <td>36.7</td>\n",
       "      <td>25.5</td>\n",
       "      <td>20</td>\n",
       "    </tr>\n",
       "    <tr>\n",
       "      <th>2018-04-15</th>\n",
       "      <td>56</td>\n",
       "      <td>0.000</td>\n",
       "      <td>0.505</td>\n",
       "      <td>0.484</td>\n",
       "      <td>0.011</td>\n",
       "      <td>28.914286</td>\n",
       "      <td>9.828571</td>\n",
       "      <td>2.057143</td>\n",
       "      <td>34.4</td>\n",
       "      <td>38.2</td>\n",
       "      <td>24.6</td>\n",
       "      <td>18</td>\n",
       "    </tr>\n",
       "    <tr>\n",
       "      <th>2018-04-22</th>\n",
       "      <td>55</td>\n",
       "      <td>0.000</td>\n",
       "      <td>0.505</td>\n",
       "      <td>0.484</td>\n",
       "      <td>0.011</td>\n",
       "      <td>28.142857</td>\n",
       "      <td>7.700000</td>\n",
       "      <td>0.371429</td>\n",
       "      <td>34.3</td>\n",
       "      <td>37.1</td>\n",
       "      <td>25.5</td>\n",
       "      <td>21</td>\n",
       "    </tr>\n",
       "    <tr>\n",
       "      <th>2018-04-29</th>\n",
       "      <td>74</td>\n",
       "      <td>0.000</td>\n",
       "      <td>0.505</td>\n",
       "      <td>0.484</td>\n",
       "      <td>0.011</td>\n",
       "      <td>28.414286</td>\n",
       "      <td>6.842857</td>\n",
       "      <td>4.800000</td>\n",
       "      <td>35.0</td>\n",
       "      <td>43.6</td>\n",
       "      <td>22.6</td>\n",
       "      <td>23</td>\n",
       "    </tr>\n",
       "    <tr>\n",
       "      <th>2018-05-06</th>\n",
       "      <td>62</td>\n",
       "      <td>0.029</td>\n",
       "      <td>0.549</td>\n",
       "      <td>0.382</td>\n",
       "      <td>0.039</td>\n",
       "      <td>28.785714</td>\n",
       "      <td>8.328571</td>\n",
       "      <td>3.742857</td>\n",
       "      <td>34.2</td>\n",
       "      <td>44.6</td>\n",
       "      <td>23.6</td>\n",
       "      <td>39</td>\n",
       "    </tr>\n",
       "  </tbody>\n",
       "</table>\n",
       "</div>"
      ],
      "text/plain": [
       "            dengue_cases  denv_1  denv_2  denv_3  denv_4  \\\n",
       "time                                                       \n",
       "2018-04-08            38   0.000   0.505   0.484   0.011   \n",
       "2018-04-15            56   0.000   0.505   0.484   0.011   \n",
       "2018-04-22            55   0.000   0.505   0.484   0.011   \n",
       "2018-04-29            74   0.000   0.505   0.484   0.011   \n",
       "2018-05-06            62   0.029   0.549   0.382   0.039   \n",
       "\n",
       "            Mean Temperature (°C)  Mean Wind Speed (km/h)  \\\n",
       "time                                                        \n",
       "2018-04-08              28.528571               10.714286   \n",
       "2018-04-15              28.914286                9.828571   \n",
       "2018-04-22              28.142857                7.700000   \n",
       "2018-04-29              28.414286                6.842857   \n",
       "2018-05-06              28.785714                8.328571   \n",
       "\n",
       "            Daily Rainfall Total (mm)  Maximum Temperature (°C)  \\\n",
       "time                                                              \n",
       "2018-04-08                   0.742857                      33.8   \n",
       "2018-04-15                   2.057143                      34.4   \n",
       "2018-04-22                   0.371429                      34.3   \n",
       "2018-04-29                   4.800000                      35.0   \n",
       "2018-05-06                   3.742857                      34.2   \n",
       "\n",
       "            Max Wind Speed (km/h)  Minimum Temperature (°C)  google_trends  \n",
       "time                                                                        \n",
       "2018-04-08                   36.7                      25.5             20  \n",
       "2018-04-15                   38.2                      24.6             18  \n",
       "2018-04-22                   37.1                      25.5             21  \n",
       "2018-04-29                   43.6                      22.6             23  \n",
       "2018-05-06                   44.6                      23.6             39  "
      ]
     },
     "execution_count": 21,
     "metadata": {},
     "output_type": "execute_result"
    }
   ],
   "source": [
    "# Check the data \n",
    "data.head()"
   ]
  },
  {
   "cell_type": "code",
   "execution_count": 22,
   "id": "bfa305cc-fc50-4f0e-9162-2a9ca52b4877",
   "metadata": {},
   "outputs": [],
   "source": [
    "# lag all predictor variables by 1 week, given that the intent is to predict the cases based on past know data\n",
    "columns_to_shift = data.columns[1:]\n",
    "\n",
    "data[columns_to_shift] = data[columns_to_shift].shift(1)\n",
    "\n",
    "# set frequency of data\n",
    "data = data.asfreq('W-SUN')"
   ]
  },
  {
   "cell_type": "markdown",
   "id": "eda0c0dc-acc8-4713-ba4d-b1822e5749c6",
   "metadata": {},
   "source": [
    "### Feature Engineering"
   ]
  },
  {
   "cell_type": "markdown",
   "id": "9551e381-da34-4b6f-b218-1b8bedbcd629",
   "metadata": {},
   "source": [
    "We engineer a few more features to control for known seasonality."
   ]
  },
  {
   "cell_type": "markdown",
   "id": "5733b513-9140-4c6e-8467-57094b45b704",
   "metadata": {},
   "source": [
    "1. Based on experience, dengue cases can explode if herd immunity for a particular strain is low. This can be proxied by the proportion of each serotype in comparison to the previous year's. We will call this the **susceptibility ratio** of serotype X defined as <br>\n",
    "    - Proportion of Cases of Serotype X in Current Period * (1 - Proportion of Cases of Serotype X in Previous Period)\n",
    "2. Based on EDA, dengue cases tend to peaked in the middle of the year, suggesting that time control variables are important in predicting cases. Hence, we will introduce **categorical month variables** to account for this\n",
    "3. Lastly, we will examine the cross correlation function plots to check which **lags of the predictor variables** may be a good addition to the model\n",
    "\n",
    "In creating all these features, we will minimise the new variables given that we do not have a huge dataset."
   ]
  },
  {
   "cell_type": "markdown",
   "id": "5e4a3a06-d931-4c9e-9d6b-4c13dcd56932",
   "metadata": {},
   "source": [
    "#### Susceptibility Ratio"
   ]
  },
  {
   "cell_type": "markdown",
   "id": "4c032469-4fea-4260-828e-11cc94d5dcff",
   "metadata": {},
   "source": [
    "Prevalence proportions are obtained from blood sampling based on [\"Dengue Seroprevalence of Healthy Adults in Singapore: Serosurvey among Blood Donors, 2009\" by S Low et all](https://www.ncbi.nlm.nih.gov/pmc/articles/PMC4497902/)\n",
    "\n",
    "Proportions are then scaled to the historical number of dengue cases to provide the initial cumulative sums for the susceptibility ratio. The previous 5 years of dengue cases is used as a base obtained from [Statista](https://www.statista.com/statistics/963019/number-of-dengue-fever-cases-singapore/)"
   ]
  },
  {
   "cell_type": "code",
   "execution_count": 94,
   "id": "e5683576-d7f2-4670-a722-6078d5ad55a3",
   "metadata": {},
   "outputs": [],
   "source": [
    "# estimate historical prevalence\n",
    "hist_df = pd.DataFrame()\n",
    "hist_df['pop_prop'] = [0.15975302, 0.149722651, 0.165137076, 0.180914314,\n",
    "                       0.193838106, 0.150634833]\n",
    "\n",
    "hist_df['denv_1'] = [0.102, 0.097, 0.222, 0.389, 0.355, 0.779]\n",
    "hist_df['denv_2'] = [0.14, 0.14, 0.322, 0.36, 0.436, 0.866]\n",
    "hist_df['denv_3'] = [0.027, 0.048, 0.133, 0.13, 0.145, 0.577]\n",
    "hist_df['denv_4'] = [0.021, 0.027, 0.111, 0.115, 0.129, 0.318]\n",
    "\n",
    "# compute initial infection proportions\n",
    "serotypes = ['denv_1', 'denv_2', 'denv_3', 'denv_4']\n",
    "# use 2013~2017 (past 5 years) total dengue cases as base - 67,642 cases\n",
    "prop0 = pd.DataFrame([(67642*hist_df[serotype] * hist_df['pop_prop']).sum() for serotype in serotypes],\n",
    "                     index=serotypes\n",
    "                    ).T\n"
   ]
  },
  {
   "cell_type": "code",
   "execution_count": 128,
   "id": "7726ffd8-2cf0-43aa-b667-83692d51fc4e",
   "metadata": {},
   "outputs": [],
   "source": [
    "# create temporary variable to store calculations\n",
    "temp = pd.DataFrame()\n",
    "\n",
    "# find total cumulative cases\n",
    "temp['dengue_cases_cum'] = data['dengue_cases'].cumsum() + 67642\n",
    "\n",
    "# for each serotype,\n",
    "for serotype in serotypes:\n",
    "    # find the number of cases each week\n",
    "    temp[serotype+'_num'] = np.round(data[serotype] * data['dengue_cases'].shift(1), 0)\n",
    "    \n",
    "    # fill in first row with initial infection proportions\n",
    "    temp.loc[temp.index[0], serotype+'_num'] = prop0[serotype][0]\n",
    "        \n",
    "    # find cumulative cases by serotype\n",
    "    temp[serotype+'_cumsum'] = temp[serotype+'_num'].cumsum()\n",
    "    \n",
    "    # find cumulative proportion of serotypes\n",
    "    temp[serotype+'_cum_ratio'] = temp[serotype+'_cumsum']/temp['dengue_cases_cum']\n",
    "    \n",
    "    # compute susceptibility ratio for each serotype\n",
    "    temp[serotype+'_s_ratio'] = data[serotype] * (1. - temp[serotype+'_cum_ratio'])\n",
    "    \n",
    "# compute overall susceptibility ratio\n",
    "data['s_ratio'] = temp.filter(like='s_ratio').sum(axis=1)"
   ]
  },
  {
   "cell_type": "code",
   "execution_count": 138,
   "id": "55aedf77-5aab-46fe-8075-859ac4d02b38",
   "metadata": {},
   "outputs": [
    {
     "data": {
      "image/png": "[encoded data removed]",
      "text/plain": [
       "<Figure size 600x600 with 3 Axes>"
      ]
     },
     "metadata": {},
     "output_type": "display_data"
    }
   ],
   "source": [
    "sns.jointplot(data=data[1:], x='s_ratio', y='dengue_cases');"
   ]
  },
  {
   "cell_type": "markdown",
   "id": "87409a34-3779-4a5f-85df-e1c88a2d04b8",
   "metadata": {},
   "source": [
    "#### Categorical Month Variables"
   ]
  },
  {
   "cell_type": "code",
   "execution_count": 139,
   "id": "e7dceb6c-6169-4830-9671-aa5a1ea12900",
   "metadata": {},
   "outputs": [
    {
     "data": {
      "text/plain": [
       "Int64Index([4, 4, 4, 4, 5, 5, 5, 5, 6, 6,\n",
       "            ...\n",
       "            1, 1, 1, 1, 1, 2, 2, 2, 2, 3],\n",
       "           dtype='int64', name='time', length=257)"
      ]
     },
     "execution_count": 139,
     "metadata": {},
     "output_type": "execute_result"
    }
   ],
   "source": [
    "data.index.month"
   ]
  },
  {
   "cell_type": "code",
   "execution_count": 140,
   "id": "701a34fa-fb52-431e-baf0-512c0b6a61c8",
   "metadata": {},
   "outputs": [],
   "source": [
    "# extract month from index as integer\n",
    "data['month'] = data.index.month\n",
    "\n",
    "# convert to categorical, dropping Jan\n",
    "data = pd.concat([data.drop(columns='month'), pd.get_dummies(data['month'], prefix='month', drop_first=True)], axis=1)"
   ]
  },
  {
   "cell_type": "markdown",
   "id": "d3321edd-fe52-4679-9d27-624cf27a471a",
   "metadata": {
    "jp-MarkdownHeadingCollapsed": true,
    "tags": []
   },
   "source": [
    "#### Lag Features"
   ]
  },
  {
   "cell_type": "code",
   "execution_count": 35,
   "id": "dcdc1f0e-6b8f-4f12-af8a-4e067edabab5",
   "metadata": {},
   "outputs": [],
   "source": [
    "lag_features = ['Mean Temperature (°C)', 'Mean Wind Speed (km/h)', \n",
    "               'Daily Rainfall Total (mm)', 'Maximum Temperature (°C)', \n",
    "               'Max Wind Speed (km/h)', 'Minimum Temperature (°C)']\n",
    "\n",
    "window1 = 7\n",
    "window2 = 14"
   ]
  },
  {
   "cell_type": "code",
   "execution_count": 36,
   "id": "1e3c21fd-37b0-4849-a193-cac3162eac37",
   "metadata": {},
   "outputs": [],
   "source": [
    "for feature in lag_features:\n",
    "    data2[f\"{feature}_lag{window1}\"] = data2[feature].shift(window1)\n",
    "    data2[f\"{feature}_lag{window2}\"] = data2[feature].shift(window2)"
   ]
  },
  {
   "cell_type": "code",
   "execution_count": 45,
   "id": "73d132fd-7c44-44ab-8e6b-b2b31e4eb689",
   "metadata": {},
   "outputs": [],
   "source": [
    "exogenous_features = ['denv_1', 'denv_2', 'denv_3', 'denv_4', \n",
    "                     'Mean Temperature (°C)_lag7', 'Mean Temperature (°C)_lag14',\n",
    "       'Mean Wind Speed (km/h)_lag7', 'Mean Wind Speed (km/h)_lag14',\n",
    "       'Daily Rainfall Total (mm)_lag7', 'Daily Rainfall Total (mm)_lag14',\n",
    "       'Maximum Temperature (°C)_lag7', 'Maximum Temperature (°C)_lag14',\n",
    "       'Max Wind Speed (km/h)_lag7', 'Max Wind Speed (km/h)_lag14',\n",
    "       'Minimum Temperature (°C)_lag7', 'Minimum Temperature (°C)_lag14', 'google_trends']\n",
    "\n",
    "exogenous_features_7d = ['denv_1', 'denv_2', 'denv_3', 'denv_4', \n",
    "                     'Mean Temperature (°C)_lag7', \n",
    "       'Mean Wind Speed (km/h)_lag7', \n",
    "       'Daily Rainfall Total (mm)_lag7', \n",
    "       'Maximum Temperature (°C)_lag7', \n",
    "       'Max Wind Speed (km/h)_lag7', \n",
    "       'Minimum Temperature (°C)_lag7', 'google_trends']\n",
    "\n",
    "exogenous_features_14d = ['denv_1', 'denv_2', 'denv_3', 'denv_4', \n",
    "                     'Mean Temperature (°C)_lag14', \n",
    "       'Mean Wind Speed (km/h)_lag14', \n",
    "       'Daily Rainfall Total (mm)_lag14', \n",
    "       'Maximum Temperature (°C)_lag14', \n",
    "       'Max Wind Speed (km/h)_lag14', \n",
    "       'Minimum Temperature (°C)_lag14', 'google_trends']"
   ]
  },
  {
   "cell_type": "markdown",
   "id": "178a2a64-5c15-49cf-ade7-fde4d23d2abf",
   "metadata": {},
   "source": [
    "### Data Export"
   ]
  },
  {
   "cell_type": "code",
   "execution_count": 141,
   "id": "d52912f1-b231-4c41-9e4a-d41b12dad970",
   "metadata": {},
   "outputs": [],
   "source": [
    "# export full dataframe to csv\n",
    "data.to_csv('../datasets/data_features.csv', index=True)"
   ]
  },
  {
   "cell_type": "code",
   "execution_count": null,
   "id": "a07cad42-b98b-42fd-91ad-aac9bc28734a",
   "metadata": {},
   "outputs": [],
   "source": []
  }
 ],
 "metadata": {
  "kernelspec": {
   "display_name": "Python [conda env:dsi-sg]",
   "language": "python",
   "name": "conda-env-dsi-sg-py"
  },
  "language_info": {
   "codemirror_mode": {
    "name": "ipython",
    "version": 3
   },
   "file_extension": ".py",
   "mimetype": "text/x-python",
   "name": "python",
   "nbconvert_exporter": "python",
   "pygments_lexer": "ipython3",
   "version": "3.9.16"
  }
 },
 "nbformat": 4,
 "nbformat_minor": 5
}
